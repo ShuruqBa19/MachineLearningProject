{
 "cells": [
  {
   "cell_type": "markdown",
   "id": "95171be9",
   "metadata": {},
   "source": [
    "# Classification of Rice Varieties #\n",
    "\n",
    "   ### Using Artificial Intelligence Methods ###\n",
    "   #####   by the author Ilkay CINAR , Murat KOKLU. #####\n",
    " "
   ]
  },
  {
   "cell_type": "markdown",
   "id": "80aa0513",
   "metadata": {},
   "source": [
    "###### Group leader:     Shuruq Hassan Baabdullah \t1906284 ######\n",
    "#####  Group members:  Rahaf Mutaz Dawoud \t1911088 ,   Manar Mutlaq Altaiary \t 1906775 #####\n",
    "##### Section: CAR #####\n"
   ]
  },
  {
   "cell_type": "code",
   "execution_count": 1,
   "id": "a93791a2",
   "metadata": {},
   "outputs": [],
   "source": [
    "# The all imports are used \n",
    "import pandas as pd\n",
    "import matplotlib.pyplot as plt\n",
    "import seaborn as sns\n",
    "%matplotlib inline\n",
    "from sklearn.model_selection import train_test_split\n",
    "from sklearn.preprocessing import StandardScaler\n",
    "from sklearn.feature_selection import RFE\n",
    "from sklearn.svm import SVC\n",
    "from sklearn.ensemble import RandomForestClassifier\n",
    "from sklearn.model_selection import cross_val_score\n",
    "from sklearn.utils import resample\n",
    "from sklearn import metrics\n",
    "from sklearn.naive_bayes import GaussianNB\n",
    "from sklearn.metrics import accuracy_score\n",
    "from sklearn.metrics import confusion_matrix\n",
    "from sklearn.model_selection import cross_val_predict\n",
    "from sklearn.model_selection import cross_val_score\n",
    "from sklearn.metrics import precision_score , recall_score\n",
    "from sklearn.linear_model import LogisticRegression\n",
    "from sklearn.tree import DecisionTreeClassifier\n",
    "from sklearn.metrics import accuracy_score\n",
    "from sklearn.metrics import confusion_matrix\n",
    "from sklearn.metrics import accuracy_score\n",
    "from sklearn.linear_model import SGDClassifier\n",
    "from sklearn.model_selection import cross_val_predict\n",
    "from sklearn.model_selection import cross_val_score"
   ]
  },
  {
   "cell_type": "markdown",
   "id": "44e05223",
   "metadata": {},
   "source": [
    "# Printing the dataset: #\n"
   ]
  },
  {
   "cell_type": "code",
   "execution_count": 2,
   "id": "ba80c786",
   "metadata": {},
   "outputs": [
    {
     "data": {
      "text/html": [
       "<div>\n",
       "<style scoped>\n",
       "    .dataframe tbody tr th:only-of-type {\n",
       "        vertical-align: middle;\n",
       "    }\n",
       "\n",
       "    .dataframe tbody tr th {\n",
       "        vertical-align: top;\n",
       "    }\n",
       "\n",
       "    .dataframe thead th {\n",
       "        text-align: right;\n",
       "    }\n",
       "</style>\n",
       "<table border=\"1\" class=\"dataframe\">\n",
       "  <thead>\n",
       "    <tr style=\"text-align: right;\">\n",
       "      <th></th>\n",
       "      <th>AREA</th>\n",
       "      <th>PERIMETER</th>\n",
       "      <th>MAJORAXIS</th>\n",
       "      <th>MINORAXIS</th>\n",
       "      <th>ECCENTRICITY</th>\n",
       "      <th>CONVEX_AREA</th>\n",
       "      <th>EXTENT</th>\n",
       "      <th>CLASS</th>\n",
       "    </tr>\n",
       "  </thead>\n",
       "  <tbody>\n",
       "    <tr>\n",
       "      <th>0</th>\n",
       "      <td>15231</td>\n",
       "      <td>525.578979</td>\n",
       "      <td>229.749878</td>\n",
       "      <td>85.093788</td>\n",
       "      <td>0.928882</td>\n",
       "      <td>15617</td>\n",
       "      <td>0.572896</td>\n",
       "      <td>Cammeo</td>\n",
       "    </tr>\n",
       "    <tr>\n",
       "      <th>1</th>\n",
       "      <td>14656</td>\n",
       "      <td>494.311005</td>\n",
       "      <td>206.020065</td>\n",
       "      <td>91.730972</td>\n",
       "      <td>0.895405</td>\n",
       "      <td>15072</td>\n",
       "      <td>0.615436</td>\n",
       "      <td>Cammeo</td>\n",
       "    </tr>\n",
       "    <tr>\n",
       "      <th>2</th>\n",
       "      <td>14634</td>\n",
       "      <td>501.122009</td>\n",
       "      <td>214.106781</td>\n",
       "      <td>87.768288</td>\n",
       "      <td>0.912118</td>\n",
       "      <td>14954</td>\n",
       "      <td>0.693259</td>\n",
       "      <td>Cammeo</td>\n",
       "    </tr>\n",
       "    <tr>\n",
       "      <th>3</th>\n",
       "      <td>13176</td>\n",
       "      <td>458.342987</td>\n",
       "      <td>193.337387</td>\n",
       "      <td>87.448395</td>\n",
       "      <td>0.891861</td>\n",
       "      <td>13368</td>\n",
       "      <td>0.640669</td>\n",
       "      <td>Cammeo</td>\n",
       "    </tr>\n",
       "    <tr>\n",
       "      <th>4</th>\n",
       "      <td>14688</td>\n",
       "      <td>507.166992</td>\n",
       "      <td>211.743378</td>\n",
       "      <td>89.312454</td>\n",
       "      <td>0.906691</td>\n",
       "      <td>15262</td>\n",
       "      <td>0.646024</td>\n",
       "      <td>Cammeo</td>\n",
       "    </tr>\n",
       "    <tr>\n",
       "      <th>...</th>\n",
       "      <td>...</td>\n",
       "      <td>...</td>\n",
       "      <td>...</td>\n",
       "      <td>...</td>\n",
       "      <td>...</td>\n",
       "      <td>...</td>\n",
       "      <td>...</td>\n",
       "      <td>...</td>\n",
       "    </tr>\n",
       "    <tr>\n",
       "      <th>3805</th>\n",
       "      <td>11441</td>\n",
       "      <td>415.858002</td>\n",
       "      <td>170.486771</td>\n",
       "      <td>85.756592</td>\n",
       "      <td>0.864280</td>\n",
       "      <td>11628</td>\n",
       "      <td>0.681012</td>\n",
       "      <td>Osmancik</td>\n",
       "    </tr>\n",
       "    <tr>\n",
       "      <th>3806</th>\n",
       "      <td>11625</td>\n",
       "      <td>421.390015</td>\n",
       "      <td>167.714798</td>\n",
       "      <td>89.462570</td>\n",
       "      <td>0.845850</td>\n",
       "      <td>11904</td>\n",
       "      <td>0.694279</td>\n",
       "      <td>Osmancik</td>\n",
       "    </tr>\n",
       "    <tr>\n",
       "      <th>3807</th>\n",
       "      <td>12437</td>\n",
       "      <td>442.498993</td>\n",
       "      <td>183.572922</td>\n",
       "      <td>86.801979</td>\n",
       "      <td>0.881144</td>\n",
       "      <td>12645</td>\n",
       "      <td>0.626739</td>\n",
       "      <td>Osmancik</td>\n",
       "    </tr>\n",
       "    <tr>\n",
       "      <th>3808</th>\n",
       "      <td>9882</td>\n",
       "      <td>392.296997</td>\n",
       "      <td>161.193985</td>\n",
       "      <td>78.210480</td>\n",
       "      <td>0.874406</td>\n",
       "      <td>10097</td>\n",
       "      <td>0.659064</td>\n",
       "      <td>Osmancik</td>\n",
       "    </tr>\n",
       "    <tr>\n",
       "      <th>3809</th>\n",
       "      <td>11434</td>\n",
       "      <td>404.709992</td>\n",
       "      <td>161.079269</td>\n",
       "      <td>90.868195</td>\n",
       "      <td>0.825692</td>\n",
       "      <td>11591</td>\n",
       "      <td>0.802949</td>\n",
       "      <td>Osmancik</td>\n",
       "    </tr>\n",
       "  </tbody>\n",
       "</table>\n",
       "<p>3810 rows × 8 columns</p>\n",
       "</div>"
      ],
      "text/plain": [
       "       AREA   PERIMETER   MAJORAXIS  MINORAXIS  ECCENTRICITY  CONVEX_AREA  \\\n",
       "0     15231  525.578979  229.749878  85.093788      0.928882        15617   \n",
       "1     14656  494.311005  206.020065  91.730972      0.895405        15072   \n",
       "2     14634  501.122009  214.106781  87.768288      0.912118        14954   \n",
       "3     13176  458.342987  193.337387  87.448395      0.891861        13368   \n",
       "4     14688  507.166992  211.743378  89.312454      0.906691        15262   \n",
       "...     ...         ...         ...        ...           ...          ...   \n",
       "3805  11441  415.858002  170.486771  85.756592      0.864280        11628   \n",
       "3806  11625  421.390015  167.714798  89.462570      0.845850        11904   \n",
       "3807  12437  442.498993  183.572922  86.801979      0.881144        12645   \n",
       "3808   9882  392.296997  161.193985  78.210480      0.874406        10097   \n",
       "3809  11434  404.709992  161.079269  90.868195      0.825692        11591   \n",
       "\n",
       "        EXTENT     CLASS  \n",
       "0     0.572896    Cammeo  \n",
       "1     0.615436    Cammeo  \n",
       "2     0.693259    Cammeo  \n",
       "3     0.640669    Cammeo  \n",
       "4     0.646024    Cammeo  \n",
       "...        ...       ...  \n",
       "3805  0.681012  Osmancik  \n",
       "3806  0.694279  Osmancik  \n",
       "3807  0.626739  Osmancik  \n",
       "3808  0.659064  Osmancik  \n",
       "3809  0.802949  Osmancik  \n",
       "\n",
       "[3810 rows x 8 columns]"
      ]
     },
     "execution_count": 2,
     "metadata": {},
     "output_type": "execute_result"
    }
   ],
   "source": [
    "#Reading the rice dataset\n",
    "data= pd.read_csv(\"C:/Users/hp/Desktop/CPIT440_Group4_ RiceDataset/Rice_Osmancik_Cammeo_Dataset.csv\")\n",
    "data"
   ]
  },
  {
   "cell_type": "code",
   "execution_count": 3,
   "id": "d17bc948",
   "metadata": {
    "scrolled": true
   },
   "outputs": [
    {
     "data": {
      "text/html": [
       "<div>\n",
       "<style scoped>\n",
       "    .dataframe tbody tr th:only-of-type {\n",
       "        vertical-align: middle;\n",
       "    }\n",
       "\n",
       "    .dataframe tbody tr th {\n",
       "        vertical-align: top;\n",
       "    }\n",
       "\n",
       "    .dataframe thead th {\n",
       "        text-align: right;\n",
       "    }\n",
       "</style>\n",
       "<table border=\"1\" class=\"dataframe\">\n",
       "  <thead>\n",
       "    <tr style=\"text-align: right;\">\n",
       "      <th></th>\n",
       "      <th>AREA</th>\n",
       "      <th>PERIMETER</th>\n",
       "      <th>MAJORAXIS</th>\n",
       "      <th>MINORAXIS</th>\n",
       "      <th>ECCENTRICITY</th>\n",
       "      <th>CONVEX_AREA</th>\n",
       "      <th>EXTENT</th>\n",
       "      <th>CLASS</th>\n",
       "    </tr>\n",
       "  </thead>\n",
       "  <tbody>\n",
       "    <tr>\n",
       "      <th>0</th>\n",
       "      <td>15231</td>\n",
       "      <td>525.578979</td>\n",
       "      <td>229.749878</td>\n",
       "      <td>85.093788</td>\n",
       "      <td>0.928882</td>\n",
       "      <td>15617</td>\n",
       "      <td>0.572896</td>\n",
       "      <td>Cammeo</td>\n",
       "    </tr>\n",
       "    <tr>\n",
       "      <th>1</th>\n",
       "      <td>14656</td>\n",
       "      <td>494.311005</td>\n",
       "      <td>206.020065</td>\n",
       "      <td>91.730972</td>\n",
       "      <td>0.895405</td>\n",
       "      <td>15072</td>\n",
       "      <td>0.615436</td>\n",
       "      <td>Cammeo</td>\n",
       "    </tr>\n",
       "    <tr>\n",
       "      <th>2</th>\n",
       "      <td>14634</td>\n",
       "      <td>501.122009</td>\n",
       "      <td>214.106781</td>\n",
       "      <td>87.768288</td>\n",
       "      <td>0.912118</td>\n",
       "      <td>14954</td>\n",
       "      <td>0.693259</td>\n",
       "      <td>Cammeo</td>\n",
       "    </tr>\n",
       "    <tr>\n",
       "      <th>3</th>\n",
       "      <td>13176</td>\n",
       "      <td>458.342987</td>\n",
       "      <td>193.337387</td>\n",
       "      <td>87.448395</td>\n",
       "      <td>0.891861</td>\n",
       "      <td>13368</td>\n",
       "      <td>0.640669</td>\n",
       "      <td>Cammeo</td>\n",
       "    </tr>\n",
       "    <tr>\n",
       "      <th>4</th>\n",
       "      <td>14688</td>\n",
       "      <td>507.166992</td>\n",
       "      <td>211.743378</td>\n",
       "      <td>89.312454</td>\n",
       "      <td>0.906691</td>\n",
       "      <td>15262</td>\n",
       "      <td>0.646024</td>\n",
       "      <td>Cammeo</td>\n",
       "    </tr>\n",
       "    <tr>\n",
       "      <th>...</th>\n",
       "      <td>...</td>\n",
       "      <td>...</td>\n",
       "      <td>...</td>\n",
       "      <td>...</td>\n",
       "      <td>...</td>\n",
       "      <td>...</td>\n",
       "      <td>...</td>\n",
       "      <td>...</td>\n",
       "    </tr>\n",
       "    <tr>\n",
       "      <th>3805</th>\n",
       "      <td>11441</td>\n",
       "      <td>415.858002</td>\n",
       "      <td>170.486771</td>\n",
       "      <td>85.756592</td>\n",
       "      <td>0.864280</td>\n",
       "      <td>11628</td>\n",
       "      <td>0.681012</td>\n",
       "      <td>Osmancik</td>\n",
       "    </tr>\n",
       "    <tr>\n",
       "      <th>3806</th>\n",
       "      <td>11625</td>\n",
       "      <td>421.390015</td>\n",
       "      <td>167.714798</td>\n",
       "      <td>89.462570</td>\n",
       "      <td>0.845850</td>\n",
       "      <td>11904</td>\n",
       "      <td>0.694279</td>\n",
       "      <td>Osmancik</td>\n",
       "    </tr>\n",
       "    <tr>\n",
       "      <th>3807</th>\n",
       "      <td>12437</td>\n",
       "      <td>442.498993</td>\n",
       "      <td>183.572922</td>\n",
       "      <td>86.801979</td>\n",
       "      <td>0.881144</td>\n",
       "      <td>12645</td>\n",
       "      <td>0.626739</td>\n",
       "      <td>Osmancik</td>\n",
       "    </tr>\n",
       "    <tr>\n",
       "      <th>3808</th>\n",
       "      <td>9882</td>\n",
       "      <td>392.296997</td>\n",
       "      <td>161.193985</td>\n",
       "      <td>78.210480</td>\n",
       "      <td>0.874406</td>\n",
       "      <td>10097</td>\n",
       "      <td>0.659064</td>\n",
       "      <td>Osmancik</td>\n",
       "    </tr>\n",
       "    <tr>\n",
       "      <th>3809</th>\n",
       "      <td>11434</td>\n",
       "      <td>404.709992</td>\n",
       "      <td>161.079269</td>\n",
       "      <td>90.868195</td>\n",
       "      <td>0.825692</td>\n",
       "      <td>11591</td>\n",
       "      <td>0.802949</td>\n",
       "      <td>Osmancik</td>\n",
       "    </tr>\n",
       "  </tbody>\n",
       "</table>\n",
       "<p>3810 rows × 8 columns</p>\n",
       "</div>"
      ],
      "text/plain": [
       "       AREA   PERIMETER   MAJORAXIS  MINORAXIS  ECCENTRICITY  CONVEX_AREA  \\\n",
       "0     15231  525.578979  229.749878  85.093788      0.928882        15617   \n",
       "1     14656  494.311005  206.020065  91.730972      0.895405        15072   \n",
       "2     14634  501.122009  214.106781  87.768288      0.912118        14954   \n",
       "3     13176  458.342987  193.337387  87.448395      0.891861        13368   \n",
       "4     14688  507.166992  211.743378  89.312454      0.906691        15262   \n",
       "...     ...         ...         ...        ...           ...          ...   \n",
       "3805  11441  415.858002  170.486771  85.756592      0.864280        11628   \n",
       "3806  11625  421.390015  167.714798  89.462570      0.845850        11904   \n",
       "3807  12437  442.498993  183.572922  86.801979      0.881144        12645   \n",
       "3808   9882  392.296997  161.193985  78.210480      0.874406        10097   \n",
       "3809  11434  404.709992  161.079269  90.868195      0.825692        11591   \n",
       "\n",
       "        EXTENT     CLASS  \n",
       "0     0.572896    Cammeo  \n",
       "1     0.615436    Cammeo  \n",
       "2     0.693259    Cammeo  \n",
       "3     0.640669    Cammeo  \n",
       "4     0.646024    Cammeo  \n",
       "...        ...       ...  \n",
       "3805  0.681012  Osmancik  \n",
       "3806  0.694279  Osmancik  \n",
       "3807  0.626739  Osmancik  \n",
       "3808  0.659064  Osmancik  \n",
       "3809  0.802949  Osmancik  \n",
       "\n",
       "[3810 rows x 8 columns]"
      ]
     },
     "execution_count": 3,
     "metadata": {},
     "output_type": "execute_result"
    }
   ],
   "source": [
    "#Printing the dataset\n",
    "data"
   ]
  },
  {
   "cell_type": "markdown",
   "id": "95604859",
   "metadata": {},
   "source": [
    "# Data description #"
   ]
  },
  {
   "cell_type": "code",
   "execution_count": 4,
   "id": "22199aea",
   "metadata": {},
   "outputs": [
    {
     "data": {
      "text/plain": [
       "(3810, 8)"
      ]
     },
     "execution_count": 4,
     "metadata": {},
     "output_type": "execute_result"
    }
   ],
   "source": [
    "#Describing the shape of the dataset (Num of inestence, num of attributes)\n",
    "data.shape"
   ]
  },
  {
   "cell_type": "code",
   "execution_count": 5,
   "id": "8e268ebf",
   "metadata": {},
   "outputs": [
    {
     "data": {
      "text/html": [
       "<div>\n",
       "<style scoped>\n",
       "    .dataframe tbody tr th:only-of-type {\n",
       "        vertical-align: middle;\n",
       "    }\n",
       "\n",
       "    .dataframe tbody tr th {\n",
       "        vertical-align: top;\n",
       "    }\n",
       "\n",
       "    .dataframe thead th {\n",
       "        text-align: right;\n",
       "    }\n",
       "</style>\n",
       "<table border=\"1\" class=\"dataframe\">\n",
       "  <thead>\n",
       "    <tr style=\"text-align: right;\">\n",
       "      <th></th>\n",
       "      <th>AREA</th>\n",
       "      <th>PERIMETER</th>\n",
       "      <th>MAJORAXIS</th>\n",
       "      <th>MINORAXIS</th>\n",
       "      <th>ECCENTRICITY</th>\n",
       "      <th>CONVEX_AREA</th>\n",
       "      <th>EXTENT</th>\n",
       "      <th>CLASS</th>\n",
       "    </tr>\n",
       "  </thead>\n",
       "  <tbody>\n",
       "    <tr>\n",
       "      <th>0</th>\n",
       "      <td>15231</td>\n",
       "      <td>525.578979</td>\n",
       "      <td>229.749878</td>\n",
       "      <td>85.093788</td>\n",
       "      <td>0.928882</td>\n",
       "      <td>15617</td>\n",
       "      <td>0.572896</td>\n",
       "      <td>Cammeo</td>\n",
       "    </tr>\n",
       "    <tr>\n",
       "      <th>1</th>\n",
       "      <td>14656</td>\n",
       "      <td>494.311005</td>\n",
       "      <td>206.020065</td>\n",
       "      <td>91.730972</td>\n",
       "      <td>0.895405</td>\n",
       "      <td>15072</td>\n",
       "      <td>0.615436</td>\n",
       "      <td>Cammeo</td>\n",
       "    </tr>\n",
       "    <tr>\n",
       "      <th>2</th>\n",
       "      <td>14634</td>\n",
       "      <td>501.122009</td>\n",
       "      <td>214.106781</td>\n",
       "      <td>87.768288</td>\n",
       "      <td>0.912118</td>\n",
       "      <td>14954</td>\n",
       "      <td>0.693259</td>\n",
       "      <td>Cammeo</td>\n",
       "    </tr>\n",
       "    <tr>\n",
       "      <th>3</th>\n",
       "      <td>13176</td>\n",
       "      <td>458.342987</td>\n",
       "      <td>193.337387</td>\n",
       "      <td>87.448395</td>\n",
       "      <td>0.891861</td>\n",
       "      <td>13368</td>\n",
       "      <td>0.640669</td>\n",
       "      <td>Cammeo</td>\n",
       "    </tr>\n",
       "    <tr>\n",
       "      <th>4</th>\n",
       "      <td>14688</td>\n",
       "      <td>507.166992</td>\n",
       "      <td>211.743378</td>\n",
       "      <td>89.312454</td>\n",
       "      <td>0.906691</td>\n",
       "      <td>15262</td>\n",
       "      <td>0.646024</td>\n",
       "      <td>Cammeo</td>\n",
       "    </tr>\n",
       "  </tbody>\n",
       "</table>\n",
       "</div>"
      ],
      "text/plain": [
       "    AREA   PERIMETER   MAJORAXIS  MINORAXIS  ECCENTRICITY  CONVEX_AREA  \\\n",
       "0  15231  525.578979  229.749878  85.093788      0.928882        15617   \n",
       "1  14656  494.311005  206.020065  91.730972      0.895405        15072   \n",
       "2  14634  501.122009  214.106781  87.768288      0.912118        14954   \n",
       "3  13176  458.342987  193.337387  87.448395      0.891861        13368   \n",
       "4  14688  507.166992  211.743378  89.312454      0.906691        15262   \n",
       "\n",
       "     EXTENT   CLASS  \n",
       "0  0.572896  Cammeo  \n",
       "1  0.615436  Cammeo  \n",
       "2  0.693259  Cammeo  \n",
       "3  0.640669  Cammeo  \n",
       "4  0.646024  Cammeo  "
      ]
     },
     "execution_count": 5,
     "metadata": {},
     "output_type": "execute_result"
    }
   ],
   "source": [
    "# printing the first 5 rows from the dataset\n",
    "data.head()"
   ]
  },
  {
   "cell_type": "code",
   "execution_count": 6,
   "id": "c4d1d244",
   "metadata": {},
   "outputs": [
    {
     "data": {
      "text/html": [
       "<div>\n",
       "<style scoped>\n",
       "    .dataframe tbody tr th:only-of-type {\n",
       "        vertical-align: middle;\n",
       "    }\n",
       "\n",
       "    .dataframe tbody tr th {\n",
       "        vertical-align: top;\n",
       "    }\n",
       "\n",
       "    .dataframe thead th {\n",
       "        text-align: right;\n",
       "    }\n",
       "</style>\n",
       "<table border=\"1\" class=\"dataframe\">\n",
       "  <thead>\n",
       "    <tr style=\"text-align: right;\">\n",
       "      <th></th>\n",
       "      <th>AREA</th>\n",
       "      <th>PERIMETER</th>\n",
       "      <th>MAJORAXIS</th>\n",
       "      <th>MINORAXIS</th>\n",
       "      <th>ECCENTRICITY</th>\n",
       "      <th>CONVEX_AREA</th>\n",
       "      <th>EXTENT</th>\n",
       "      <th>CLASS</th>\n",
       "    </tr>\n",
       "  </thead>\n",
       "  <tbody>\n",
       "    <tr>\n",
       "      <th>3805</th>\n",
       "      <td>11441</td>\n",
       "      <td>415.858002</td>\n",
       "      <td>170.486771</td>\n",
       "      <td>85.756592</td>\n",
       "      <td>0.864280</td>\n",
       "      <td>11628</td>\n",
       "      <td>0.681012</td>\n",
       "      <td>Osmancik</td>\n",
       "    </tr>\n",
       "    <tr>\n",
       "      <th>3806</th>\n",
       "      <td>11625</td>\n",
       "      <td>421.390015</td>\n",
       "      <td>167.714798</td>\n",
       "      <td>89.462570</td>\n",
       "      <td>0.845850</td>\n",
       "      <td>11904</td>\n",
       "      <td>0.694279</td>\n",
       "      <td>Osmancik</td>\n",
       "    </tr>\n",
       "    <tr>\n",
       "      <th>3807</th>\n",
       "      <td>12437</td>\n",
       "      <td>442.498993</td>\n",
       "      <td>183.572922</td>\n",
       "      <td>86.801979</td>\n",
       "      <td>0.881144</td>\n",
       "      <td>12645</td>\n",
       "      <td>0.626739</td>\n",
       "      <td>Osmancik</td>\n",
       "    </tr>\n",
       "    <tr>\n",
       "      <th>3808</th>\n",
       "      <td>9882</td>\n",
       "      <td>392.296997</td>\n",
       "      <td>161.193985</td>\n",
       "      <td>78.210480</td>\n",
       "      <td>0.874406</td>\n",
       "      <td>10097</td>\n",
       "      <td>0.659064</td>\n",
       "      <td>Osmancik</td>\n",
       "    </tr>\n",
       "    <tr>\n",
       "      <th>3809</th>\n",
       "      <td>11434</td>\n",
       "      <td>404.709992</td>\n",
       "      <td>161.079269</td>\n",
       "      <td>90.868195</td>\n",
       "      <td>0.825692</td>\n",
       "      <td>11591</td>\n",
       "      <td>0.802949</td>\n",
       "      <td>Osmancik</td>\n",
       "    </tr>\n",
       "  </tbody>\n",
       "</table>\n",
       "</div>"
      ],
      "text/plain": [
       "       AREA   PERIMETER   MAJORAXIS  MINORAXIS  ECCENTRICITY  CONVEX_AREA  \\\n",
       "3805  11441  415.858002  170.486771  85.756592      0.864280        11628   \n",
       "3806  11625  421.390015  167.714798  89.462570      0.845850        11904   \n",
       "3807  12437  442.498993  183.572922  86.801979      0.881144        12645   \n",
       "3808   9882  392.296997  161.193985  78.210480      0.874406        10097   \n",
       "3809  11434  404.709992  161.079269  90.868195      0.825692        11591   \n",
       "\n",
       "        EXTENT     CLASS  \n",
       "3805  0.681012  Osmancik  \n",
       "3806  0.694279  Osmancik  \n",
       "3807  0.626739  Osmancik  \n",
       "3808  0.659064  Osmancik  \n",
       "3809  0.802949  Osmancik  "
      ]
     },
     "execution_count": 6,
     "metadata": {},
     "output_type": "execute_result"
    }
   ],
   "source": [
    "# printing the last 5 rows from the dataset\n",
    "data.tail()"
   ]
  },
  {
   "cell_type": "code",
   "execution_count": 7,
   "id": "a902b90e",
   "metadata": {},
   "outputs": [
    {
     "name": "stdout",
     "output_type": "stream",
     "text": [
      "<class 'pandas.core.frame.DataFrame'>\n",
      "RangeIndex: 3810 entries, 0 to 3809\n",
      "Data columns (total 8 columns):\n",
      " #   Column        Non-Null Count  Dtype  \n",
      "---  ------        --------------  -----  \n",
      " 0   AREA          3810 non-null   int64  \n",
      " 1   PERIMETER     3810 non-null   float64\n",
      " 2   MAJORAXIS     3810 non-null   float64\n",
      " 3   MINORAXIS     3810 non-null   float64\n",
      " 4   ECCENTRICITY  3810 non-null   float64\n",
      " 5   CONVEX_AREA   3810 non-null   int64  \n",
      " 6   EXTENT        3810 non-null   float64\n",
      " 7   CLASS         3810 non-null   object \n",
      "dtypes: float64(5), int64(2), object(1)\n",
      "memory usage: 238.2+ KB\n"
     ]
    }
   ],
   "source": [
    "# printing all the attribute describtion with its data type\n",
    "data.info()"
   ]
  },
  {
   "cell_type": "code",
   "execution_count": 8,
   "id": "a156ceca",
   "metadata": {},
   "outputs": [
    {
     "data": {
      "text/html": [
       "<div>\n",
       "<style scoped>\n",
       "    .dataframe tbody tr th:only-of-type {\n",
       "        vertical-align: middle;\n",
       "    }\n",
       "\n",
       "    .dataframe tbody tr th {\n",
       "        vertical-align: top;\n",
       "    }\n",
       "\n",
       "    .dataframe thead th {\n",
       "        text-align: right;\n",
       "    }\n",
       "</style>\n",
       "<table border=\"1\" class=\"dataframe\">\n",
       "  <thead>\n",
       "    <tr style=\"text-align: right;\">\n",
       "      <th></th>\n",
       "      <th>count</th>\n",
       "      <th>mean</th>\n",
       "      <th>std</th>\n",
       "      <th>min</th>\n",
       "      <th>25%</th>\n",
       "      <th>50%</th>\n",
       "      <th>75%</th>\n",
       "      <th>max</th>\n",
       "    </tr>\n",
       "  </thead>\n",
       "  <tbody>\n",
       "    <tr>\n",
       "      <th>AREA</th>\n",
       "      <td>3810.0</td>\n",
       "      <td>12667.727559</td>\n",
       "      <td>1732.367706</td>\n",
       "      <td>7551.000000</td>\n",
       "      <td>11370.500000</td>\n",
       "      <td>12421.500000</td>\n",
       "      <td>13950.000000</td>\n",
       "      <td>18913.000000</td>\n",
       "    </tr>\n",
       "    <tr>\n",
       "      <th>PERIMETER</th>\n",
       "      <td>3810.0</td>\n",
       "      <td>454.239180</td>\n",
       "      <td>35.597081</td>\n",
       "      <td>359.100006</td>\n",
       "      <td>426.144752</td>\n",
       "      <td>448.852493</td>\n",
       "      <td>483.683746</td>\n",
       "      <td>548.445984</td>\n",
       "    </tr>\n",
       "    <tr>\n",
       "      <th>MAJORAXIS</th>\n",
       "      <td>3810.0</td>\n",
       "      <td>188.776222</td>\n",
       "      <td>17.448679</td>\n",
       "      <td>145.264465</td>\n",
       "      <td>174.353855</td>\n",
       "      <td>185.810059</td>\n",
       "      <td>203.550438</td>\n",
       "      <td>239.010498</td>\n",
       "    </tr>\n",
       "    <tr>\n",
       "      <th>MINORAXIS</th>\n",
       "      <td>3810.0</td>\n",
       "      <td>86.313750</td>\n",
       "      <td>5.729817</td>\n",
       "      <td>59.532406</td>\n",
       "      <td>82.731695</td>\n",
       "      <td>86.434647</td>\n",
       "      <td>90.143677</td>\n",
       "      <td>107.542450</td>\n",
       "    </tr>\n",
       "    <tr>\n",
       "      <th>ECCENTRICITY</th>\n",
       "      <td>3810.0</td>\n",
       "      <td>0.886871</td>\n",
       "      <td>0.020818</td>\n",
       "      <td>0.777233</td>\n",
       "      <td>0.872402</td>\n",
       "      <td>0.889050</td>\n",
       "      <td>0.902588</td>\n",
       "      <td>0.948007</td>\n",
       "    </tr>\n",
       "    <tr>\n",
       "      <th>CONVEX_AREA</th>\n",
       "      <td>3810.0</td>\n",
       "      <td>12952.496850</td>\n",
       "      <td>1776.972042</td>\n",
       "      <td>7723.000000</td>\n",
       "      <td>11626.250000</td>\n",
       "      <td>12706.500000</td>\n",
       "      <td>14284.000000</td>\n",
       "      <td>19099.000000</td>\n",
       "    </tr>\n",
       "    <tr>\n",
       "      <th>EXTENT</th>\n",
       "      <td>3810.0</td>\n",
       "      <td>0.661934</td>\n",
       "      <td>0.077239</td>\n",
       "      <td>0.497413</td>\n",
       "      <td>0.598862</td>\n",
       "      <td>0.645361</td>\n",
       "      <td>0.726562</td>\n",
       "      <td>0.861050</td>\n",
       "    </tr>\n",
       "  </tbody>\n",
       "</table>\n",
       "</div>"
      ],
      "text/plain": [
       "               count          mean          std          min           25%  \\\n",
       "AREA          3810.0  12667.727559  1732.367706  7551.000000  11370.500000   \n",
       "PERIMETER     3810.0    454.239180    35.597081   359.100006    426.144752   \n",
       "MAJORAXIS     3810.0    188.776222    17.448679   145.264465    174.353855   \n",
       "MINORAXIS     3810.0     86.313750     5.729817    59.532406     82.731695   \n",
       "ECCENTRICITY  3810.0      0.886871     0.020818     0.777233      0.872402   \n",
       "CONVEX_AREA   3810.0  12952.496850  1776.972042  7723.000000  11626.250000   \n",
       "EXTENT        3810.0      0.661934     0.077239     0.497413      0.598862   \n",
       "\n",
       "                       50%           75%           max  \n",
       "AREA          12421.500000  13950.000000  18913.000000  \n",
       "PERIMETER       448.852493    483.683746    548.445984  \n",
       "MAJORAXIS       185.810059    203.550438    239.010498  \n",
       "MINORAXIS        86.434647     90.143677    107.542450  \n",
       "ECCENTRICITY      0.889050      0.902588      0.948007  \n",
       "CONVEX_AREA   12706.500000  14284.000000  19099.000000  \n",
       "EXTENT            0.645361      0.726562      0.861050  "
      ]
     },
     "execution_count": 8,
     "metadata": {},
     "output_type": "execute_result"
    }
   ],
   "source": [
    "# describe the whole dataset with its values statisticaly\n",
    "data.describe().T"
   ]
  },
  {
   "cell_type": "markdown",
   "id": "48c2b914",
   "metadata": {},
   "source": [
    "# Data visualization #\n"
   ]
  },
  {
   "cell_type": "code",
   "execution_count": 9,
   "id": "e95e4b3c",
   "metadata": {},
   "outputs": [
    {
     "data": {
      "image/png": "[encoded data removed]",
      "text/plain": [
       "<Figure size 1440x1080 with 9 Axes>"
      ]
     },
     "metadata": {
      "needs_background": "light"
     },
     "output_type": "display_data"
    }
   ],
   "source": [
    "# histogram for all atrributes \n",
    "data.hist(bins=50,figsize=(20,15))\n",
    "plt.suptitle('Figure 1', fontsize=20)\n",
    "plt.show()"
   ]
  },
  {
   "cell_type": "code",
   "execution_count": 10,
   "id": "a3629ae7",
   "metadata": {},
   "outputs": [
    {
     "data": {
      "text/plain": [
       "Osmancik    2180\n",
       "Cammeo      1630\n",
       "Name: CLASS, dtype: int64"
      ]
     },
     "execution_count": 10,
     "metadata": {},
     "output_type": "execute_result"
    }
   ],
   "source": [
    "# count how many \"Osmancik\" and \"Cammeo\" in the dataset\n",
    "RiceValues= data[\"CLASS\"].value_counts()\n",
    "RiceValues\n",
    "# data unballanced so we need to make it ballance "
   ]
  },
  {
   "cell_type": "code",
   "execution_count": 11,
   "id": "796637b3",
   "metadata": {},
   "outputs": [
    {
     "data": {
      "image/png": "[encoded data removed]",
      "text/plain": [
       "<Figure size 432x288 with 1 Axes>"
      ]
     },
     "metadata": {
      "needs_background": "light"
     },
     "output_type": "display_data"
    }
   ],
   "source": [
    "# Showing the rice Value information as a bar graph\n",
    "data[\"CLASS\"].value_counts().plot(kind=\"bar\")\n",
    "plt.show()"
   ]
  },
  {
   "cell_type": "code",
   "execution_count": 12,
   "id": "087c7740",
   "metadata": {},
   "outputs": [
    {
     "data": {
      "image/png": "[encoded data removed]",
      "text/plain": [
       "<Figure size 432x288 with 1 Axes>"
      ]
     },
     "metadata": {
      "needs_background": "light"
     },
     "output_type": "display_data"
    }
   ],
   "source": [
    "# scatter plot for the two attributes MAJORAXIS and MINORAXIS\n",
    "data.plot(kind=\"scatter\",x=\"MAJORAXIS\",y=\"MINORAXIS\")\n",
    "plt.show()"
   ]
  },
  {
   "cell_type": "code",
   "execution_count": 13,
   "id": "86208c91",
   "metadata": {},
   "outputs": [
    {
     "data": {
      "image/png": "[encoded data removed]",
      "text/plain": [
       "<Figure size 1080x1080 with 1 Axes>"
      ]
     },
     "metadata": {
      "needs_background": "light"
     },
     "output_type": "display_data"
    }
   ],
   "source": [
    "# box plot of all numeric attributes\n",
    "data.boxplot(figsize=(15,15)) \n",
    "plt.show()"
   ]
  },
  {
   "cell_type": "markdown",
   "id": "7790b2d8",
   "metadata": {},
   "source": [
    "# Data correlations #"
   ]
  },
  {
   "cell_type": "code",
   "execution_count": 14,
   "id": "a846a316",
   "metadata": {},
   "outputs": [
    {
     "data": {
      "text/html": [
       "<div>\n",
       "<style scoped>\n",
       "    .dataframe tbody tr th:only-of-type {\n",
       "        vertical-align: middle;\n",
       "    }\n",
       "\n",
       "    .dataframe tbody tr th {\n",
       "        vertical-align: top;\n",
       "    }\n",
       "\n",
       "    .dataframe thead th {\n",
       "        text-align: right;\n",
       "    }\n",
       "</style>\n",
       "<table border=\"1\" class=\"dataframe\">\n",
       "  <thead>\n",
       "    <tr style=\"text-align: right;\">\n",
       "      <th></th>\n",
       "      <th>AREA</th>\n",
       "      <th>PERIMETER</th>\n",
       "      <th>MAJORAXIS</th>\n",
       "      <th>MINORAXIS</th>\n",
       "      <th>ECCENTRICITY</th>\n",
       "      <th>CONVEX_AREA</th>\n",
       "      <th>EXTENT</th>\n",
       "    </tr>\n",
       "  </thead>\n",
       "  <tbody>\n",
       "    <tr>\n",
       "      <th>AREA</th>\n",
       "      <td>1.000000</td>\n",
       "      <td>0.966453</td>\n",
       "      <td>0.903015</td>\n",
       "      <td>0.787840</td>\n",
       "      <td>0.352095</td>\n",
       "      <td>0.998939</td>\n",
       "      <td>-0.061184</td>\n",
       "    </tr>\n",
       "    <tr>\n",
       "      <th>PERIMETER</th>\n",
       "      <td>0.966453</td>\n",
       "      <td>1.000000</td>\n",
       "      <td>0.971884</td>\n",
       "      <td>0.629828</td>\n",
       "      <td>0.544601</td>\n",
       "      <td>0.969937</td>\n",
       "      <td>-0.130923</td>\n",
       "    </tr>\n",
       "    <tr>\n",
       "      <th>MAJORAXIS</th>\n",
       "      <td>0.903015</td>\n",
       "      <td>0.971884</td>\n",
       "      <td>1.000000</td>\n",
       "      <td>0.452092</td>\n",
       "      <td>0.710897</td>\n",
       "      <td>0.903381</td>\n",
       "      <td>-0.139562</td>\n",
       "    </tr>\n",
       "    <tr>\n",
       "      <th>MINORAXIS</th>\n",
       "      <td>0.787840</td>\n",
       "      <td>0.629828</td>\n",
       "      <td>0.452092</td>\n",
       "      <td>1.000000</td>\n",
       "      <td>-0.291683</td>\n",
       "      <td>0.787318</td>\n",
       "      <td>0.063366</td>\n",
       "    </tr>\n",
       "    <tr>\n",
       "      <th>ECCENTRICITY</th>\n",
       "      <td>0.352095</td>\n",
       "      <td>0.544601</td>\n",
       "      <td>0.710897</td>\n",
       "      <td>-0.291683</td>\n",
       "      <td>1.000000</td>\n",
       "      <td>0.352716</td>\n",
       "      <td>-0.198580</td>\n",
       "    </tr>\n",
       "    <tr>\n",
       "      <th>CONVEX_AREA</th>\n",
       "      <td>0.998939</td>\n",
       "      <td>0.969937</td>\n",
       "      <td>0.903381</td>\n",
       "      <td>0.787318</td>\n",
       "      <td>0.352716</td>\n",
       "      <td>1.000000</td>\n",
       "      <td>-0.065826</td>\n",
       "    </tr>\n",
       "    <tr>\n",
       "      <th>EXTENT</th>\n",
       "      <td>-0.061184</td>\n",
       "      <td>-0.130923</td>\n",
       "      <td>-0.139562</td>\n",
       "      <td>0.063366</td>\n",
       "      <td>-0.198580</td>\n",
       "      <td>-0.065826</td>\n",
       "      <td>1.000000</td>\n",
       "    </tr>\n",
       "  </tbody>\n",
       "</table>\n",
       "</div>"
      ],
      "text/plain": [
       "                  AREA  PERIMETER  MAJORAXIS  MINORAXIS  ECCENTRICITY  \\\n",
       "AREA          1.000000   0.966453   0.903015   0.787840      0.352095   \n",
       "PERIMETER     0.966453   1.000000   0.971884   0.629828      0.544601   \n",
       "MAJORAXIS     0.903015   0.971884   1.000000   0.452092      0.710897   \n",
       "MINORAXIS     0.787840   0.629828   0.452092   1.000000     -0.291683   \n",
       "ECCENTRICITY  0.352095   0.544601   0.710897  -0.291683      1.000000   \n",
       "CONVEX_AREA   0.998939   0.969937   0.903381   0.787318      0.352716   \n",
       "EXTENT       -0.061184  -0.130923  -0.139562   0.063366     -0.198580   \n",
       "\n",
       "              CONVEX_AREA    EXTENT  \n",
       "AREA             0.998939 -0.061184  \n",
       "PERIMETER        0.969937 -0.130923  \n",
       "MAJORAXIS        0.903381 -0.139562  \n",
       "MINORAXIS        0.787318  0.063366  \n",
       "ECCENTRICITY     0.352716 -0.198580  \n",
       "CONVEX_AREA      1.000000 -0.065826  \n",
       "EXTENT          -0.065826  1.000000  "
      ]
     },
     "execution_count": 14,
     "metadata": {},
     "output_type": "execute_result"
    }
   ],
   "source": [
    "# calculate the correlations between attributes\n",
    "corr_matrix=data.corr()\n",
    "corr_matrix"
   ]
  },
  {
   "cell_type": "code",
   "execution_count": 15,
   "id": "e62b9693",
   "metadata": {},
   "outputs": [
    {
     "data": {
      "image/png": "[encoded data removed]",
      "text/plain": [
       "<Figure size 288x288 with 2 Axes>"
      ]
     },
     "metadata": {
      "needs_background": "light"
     },
     "output_type": "display_data"
    }
   ],
   "source": [
    "# figure shows that the correlation between the attributes\n",
    "plt.matshow(corr_matrix)\n",
    "plt.colorbar()\n",
    "plt.show()"
   ]
  },
  {
   "cell_type": "code",
   "execution_count": 16,
   "id": "f3b76ef7",
   "metadata": {},
   "outputs": [
    {
     "data": {
      "text/html": [
       "<style  type=\"text/css\" >\n",
       "#T_669ff_row0_col0,#T_669ff_row0_col5,#T_669ff_row1_col1,#T_669ff_row2_col2,#T_669ff_row3_col3,#T_669ff_row4_col4,#T_669ff_row5_col0,#T_669ff_row5_col5,#T_669ff_row6_col6{\n",
       "            background-color:  #b40426;\n",
       "            color:  #f1f1f1;\n",
       "        }#T_669ff_row0_col1,#T_669ff_row1_col5{\n",
       "            background-color:  #be242e;\n",
       "            color:  #f1f1f1;\n",
       "        }#T_669ff_row0_col2,#T_669ff_row5_col2{\n",
       "            background-color:  #d1493f;\n",
       "            color:  #f1f1f1;\n",
       "        }#T_669ff_row0_col3,#T_669ff_row5_col3{\n",
       "            background-color:  #e7745b;\n",
       "            color:  #000000;\n",
       "        }#T_669ff_row0_col4,#T_669ff_row5_col4{\n",
       "            background-color:  #dcdddd;\n",
       "            color:  #000000;\n",
       "        }#T_669ff_row0_col6{\n",
       "            background-color:  #5e7de7;\n",
       "            color:  #000000;\n",
       "        }#T_669ff_row1_col0{\n",
       "            background-color:  #c0282f;\n",
       "            color:  #f1f1f1;\n",
       "        }#T_669ff_row1_col2,#T_669ff_row2_col1,#T_669ff_row5_col1{\n",
       "            background-color:  #bd1f2d;\n",
       "            color:  #f1f1f1;\n",
       "        }#T_669ff_row1_col3{\n",
       "            background-color:  #f7a889;\n",
       "            color:  #000000;\n",
       "        }#T_669ff_row1_col4{\n",
       "            background-color:  #f6bea4;\n",
       "            color:  #000000;\n",
       "        }#T_669ff_row1_col6{\n",
       "            background-color:  #4b64d5;\n",
       "            color:  #f1f1f1;\n",
       "        }#T_669ff_row2_col0,#T_669ff_row2_col5{\n",
       "            background-color:  #d44e41;\n",
       "            color:  #000000;\n",
       "        }#T_669ff_row2_col3{\n",
       "            background-color:  #eed0c0;\n",
       "            color:  #000000;\n",
       "        }#T_669ff_row2_col4{\n",
       "            background-color:  #f18f71;\n",
       "            color:  #000000;\n",
       "        }#T_669ff_row2_col6{\n",
       "            background-color:  #4961d2;\n",
       "            color:  #f1f1f1;\n",
       "        }#T_669ff_row3_col0,#T_669ff_row3_col5{\n",
       "            background-color:  #ee8468;\n",
       "            color:  #000000;\n",
       "        }#T_669ff_row3_col1{\n",
       "            background-color:  #f7b599;\n",
       "            color:  #000000;\n",
       "        }#T_669ff_row3_col2{\n",
       "            background-color:  #e1dad6;\n",
       "            color:  #000000;\n",
       "        }#T_669ff_row3_col4,#T_669ff_row4_col3,#T_669ff_row4_col6,#T_669ff_row6_col0,#T_669ff_row6_col1,#T_669ff_row6_col2,#T_669ff_row6_col5{\n",
       "            background-color:  #3b4cc0;\n",
       "            color:  #f1f1f1;\n",
       "        }#T_669ff_row3_col6{\n",
       "            background-color:  #81a4fb;\n",
       "            color:  #000000;\n",
       "        }#T_669ff_row4_col0{\n",
       "            background-color:  #bcd2f7;\n",
       "            color:  #000000;\n",
       "        }#T_669ff_row4_col1{\n",
       "            background-color:  #f1ccb8;\n",
       "            color:  #000000;\n",
       "        }#T_669ff_row4_col2{\n",
       "            background-color:  #f49a7b;\n",
       "            color:  #000000;\n",
       "        }#T_669ff_row4_col5{\n",
       "            background-color:  #bed2f6;\n",
       "            color:  #000000;\n",
       "        }#T_669ff_row5_col6{\n",
       "            background-color:  #5d7ce6;\n",
       "            color:  #000000;\n",
       "        }#T_669ff_row6_col3{\n",
       "            background-color:  #96b7ff;\n",
       "            color:  #000000;\n",
       "        }#T_669ff_row6_col4{\n",
       "            background-color:  #506bda;\n",
       "            color:  #000000;\n",
       "        }</style><table id=\"T_669ff_\" ><thead>    <tr>        <th class=\"blank level0\" ></th>        <th class=\"col_heading level0 col0\" >AREA</th>        <th class=\"col_heading level0 col1\" >PERIMETER</th>        <th class=\"col_heading level0 col2\" >MAJORAXIS</th>        <th class=\"col_heading level0 col3\" >MINORAXIS</th>        <th class=\"col_heading level0 col4\" >ECCENTRICITY</th>        <th class=\"col_heading level0 col5\" >CONVEX_AREA</th>        <th class=\"col_heading level0 col6\" >EXTENT</th>    </tr></thead><tbody>\n",
       "                <tr>\n",
       "                        <th id=\"T_669ff_level0_row0\" class=\"row_heading level0 row0\" >AREA</th>\n",
       "                        <td id=\"T_669ff_row0_col0\" class=\"data row0 col0\" >1.0</td>\n",
       "                        <td id=\"T_669ff_row0_col1\" class=\"data row0 col1\" >1.0</td>\n",
       "                        <td id=\"T_669ff_row0_col2\" class=\"data row0 col2\" >0.9</td>\n",
       "                        <td id=\"T_669ff_row0_col3\" class=\"data row0 col3\" >0.8</td>\n",
       "                        <td id=\"T_669ff_row0_col4\" class=\"data row0 col4\" >0.4</td>\n",
       "                        <td id=\"T_669ff_row0_col5\" class=\"data row0 col5\" >1.0</td>\n",
       "                        <td id=\"T_669ff_row0_col6\" class=\"data row0 col6\" >-0.1</td>\n",
       "            </tr>\n",
       "            <tr>\n",
       "                        <th id=\"T_669ff_level0_row1\" class=\"row_heading level0 row1\" >PERIMETER</th>\n",
       "                        <td id=\"T_669ff_row1_col0\" class=\"data row1 col0\" >1.0</td>\n",
       "                        <td id=\"T_669ff_row1_col1\" class=\"data row1 col1\" >1.0</td>\n",
       "                        <td id=\"T_669ff_row1_col2\" class=\"data row1 col2\" >1.0</td>\n",
       "                        <td id=\"T_669ff_row1_col3\" class=\"data row1 col3\" >0.6</td>\n",
       "                        <td id=\"T_669ff_row1_col4\" class=\"data row1 col4\" >0.5</td>\n",
       "                        <td id=\"T_669ff_row1_col5\" class=\"data row1 col5\" >1.0</td>\n",
       "                        <td id=\"T_669ff_row1_col6\" class=\"data row1 col6\" >-0.1</td>\n",
       "            </tr>\n",
       "            <tr>\n",
       "                        <th id=\"T_669ff_level0_row2\" class=\"row_heading level0 row2\" >MAJORAXIS</th>\n",
       "                        <td id=\"T_669ff_row2_col0\" class=\"data row2 col0\" >0.9</td>\n",
       "                        <td id=\"T_669ff_row2_col1\" class=\"data row2 col1\" >1.0</td>\n",
       "                        <td id=\"T_669ff_row2_col2\" class=\"data row2 col2\" >1.0</td>\n",
       "                        <td id=\"T_669ff_row2_col3\" class=\"data row2 col3\" >0.5</td>\n",
       "                        <td id=\"T_669ff_row2_col4\" class=\"data row2 col4\" >0.7</td>\n",
       "                        <td id=\"T_669ff_row2_col5\" class=\"data row2 col5\" >0.9</td>\n",
       "                        <td id=\"T_669ff_row2_col6\" class=\"data row2 col6\" >-0.1</td>\n",
       "            </tr>\n",
       "            <tr>\n",
       "                        <th id=\"T_669ff_level0_row3\" class=\"row_heading level0 row3\" >MINORAXIS</th>\n",
       "                        <td id=\"T_669ff_row3_col0\" class=\"data row3 col0\" >0.8</td>\n",
       "                        <td id=\"T_669ff_row3_col1\" class=\"data row3 col1\" >0.6</td>\n",
       "                        <td id=\"T_669ff_row3_col2\" class=\"data row3 col2\" >0.5</td>\n",
       "                        <td id=\"T_669ff_row3_col3\" class=\"data row3 col3\" >1.0</td>\n",
       "                        <td id=\"T_669ff_row3_col4\" class=\"data row3 col4\" >-0.3</td>\n",
       "                        <td id=\"T_669ff_row3_col5\" class=\"data row3 col5\" >0.8</td>\n",
       "                        <td id=\"T_669ff_row3_col6\" class=\"data row3 col6\" >0.1</td>\n",
       "            </tr>\n",
       "            <tr>\n",
       "                        <th id=\"T_669ff_level0_row4\" class=\"row_heading level0 row4\" >ECCENTRICITY</th>\n",
       "                        <td id=\"T_669ff_row4_col0\" class=\"data row4 col0\" >0.4</td>\n",
       "                        <td id=\"T_669ff_row4_col1\" class=\"data row4 col1\" >0.5</td>\n",
       "                        <td id=\"T_669ff_row4_col2\" class=\"data row4 col2\" >0.7</td>\n",
       "                        <td id=\"T_669ff_row4_col3\" class=\"data row4 col3\" >-0.3</td>\n",
       "                        <td id=\"T_669ff_row4_col4\" class=\"data row4 col4\" >1.0</td>\n",
       "                        <td id=\"T_669ff_row4_col5\" class=\"data row4 col5\" >0.4</td>\n",
       "                        <td id=\"T_669ff_row4_col6\" class=\"data row4 col6\" >-0.2</td>\n",
       "            </tr>\n",
       "            <tr>\n",
       "                        <th id=\"T_669ff_level0_row5\" class=\"row_heading level0 row5\" >CONVEX_AREA</th>\n",
       "                        <td id=\"T_669ff_row5_col0\" class=\"data row5 col0\" >1.0</td>\n",
       "                        <td id=\"T_669ff_row5_col1\" class=\"data row5 col1\" >1.0</td>\n",
       "                        <td id=\"T_669ff_row5_col2\" class=\"data row5 col2\" >0.9</td>\n",
       "                        <td id=\"T_669ff_row5_col3\" class=\"data row5 col3\" >0.8</td>\n",
       "                        <td id=\"T_669ff_row5_col4\" class=\"data row5 col4\" >0.4</td>\n",
       "                        <td id=\"T_669ff_row5_col5\" class=\"data row5 col5\" >1.0</td>\n",
       "                        <td id=\"T_669ff_row5_col6\" class=\"data row5 col6\" >-0.1</td>\n",
       "            </tr>\n",
       "            <tr>\n",
       "                        <th id=\"T_669ff_level0_row6\" class=\"row_heading level0 row6\" >EXTENT</th>\n",
       "                        <td id=\"T_669ff_row6_col0\" class=\"data row6 col0\" >-0.1</td>\n",
       "                        <td id=\"T_669ff_row6_col1\" class=\"data row6 col1\" >-0.1</td>\n",
       "                        <td id=\"T_669ff_row6_col2\" class=\"data row6 col2\" >-0.1</td>\n",
       "                        <td id=\"T_669ff_row6_col3\" class=\"data row6 col3\" >0.1</td>\n",
       "                        <td id=\"T_669ff_row6_col4\" class=\"data row6 col4\" >-0.2</td>\n",
       "                        <td id=\"T_669ff_row6_col5\" class=\"data row6 col5\" >-0.1</td>\n",
       "                        <td id=\"T_669ff_row6_col6\" class=\"data row6 col6\" >1.0</td>\n",
       "            </tr>\n",
       "    </tbody></table>"
      ],
      "text/plain": [
       "<pandas.io.formats.style.Styler at 0x266a95f6ac0>"
      ]
     },
     "execution_count": 16,
     "metadata": {},
     "output_type": "execute_result"
    }
   ],
   "source": [
    "# figure shows that the correlation between the attributes\n",
    "corr_matrix.style.background_gradient(cmap='coolwarm').set_precision(1)"
   ]
  },
  {
   "cell_type": "code",
   "execution_count": 17,
   "id": "bc9b21ab",
   "metadata": {},
   "outputs": [
    {
     "data": {
      "text/plain": [
       "<AxesSubplot:>"
      ]
     },
     "execution_count": 17,
     "metadata": {},
     "output_type": "execute_result"
    },
    {
     "data": {
      "image/png": "[encoded data removed]",
      "text/plain": [
       "<Figure size 1080x720 with 2 Axes>"
      ]
     },
     "metadata": {
      "needs_background": "light"
     },
     "output_type": "display_data"
    }
   ],
   "source": [
    "# figure to show the correlation between the attributes\n",
    "plt.figure(figsize=(15, 10))\n",
    "sns.heatmap(corr_matrix,annot=True)"
   ]
  },
  {
   "cell_type": "code",
   "execution_count": 18,
   "id": "cb0f2c82",
   "metadata": {},
   "outputs": [
    {
     "data": {
      "text/plain": [
       "AREA            1.000000\n",
       "CONVEX_AREA     0.998939\n",
       "PERIMETER       0.966453\n",
       "MAJORAXIS       0.903015\n",
       "MINORAXIS       0.787840\n",
       "ECCENTRICITY    0.352095\n",
       "EXTENT         -0.061184\n",
       "Name: AREA, dtype: float64"
      ]
     },
     "execution_count": 18,
     "metadata": {},
     "output_type": "execute_result"
    }
   ],
   "source": [
    "# shows the correlation between the area and other attributes \n",
    "corr_matrix[\"AREA\"].sort_values(ascending=False) "
   ]
  },
  {
   "cell_type": "markdown",
   "id": "c053b948",
   "metadata": {},
   "source": [
    "# Data Processing #"
   ]
  },
  {
   "cell_type": "code",
   "execution_count": 19,
   "id": "d1352df0",
   "metadata": {},
   "outputs": [
    {
     "data": {
      "text/html": [
       "<div>\n",
       "<style scoped>\n",
       "    .dataframe tbody tr th:only-of-type {\n",
       "        vertical-align: middle;\n",
       "    }\n",
       "\n",
       "    .dataframe tbody tr th {\n",
       "        vertical-align: top;\n",
       "    }\n",
       "\n",
       "    .dataframe thead th {\n",
       "        text-align: right;\n",
       "    }\n",
       "</style>\n",
       "<table border=\"1\" class=\"dataframe\">\n",
       "  <thead>\n",
       "    <tr style=\"text-align: right;\">\n",
       "      <th></th>\n",
       "      <th>AREA</th>\n",
       "      <th>PERIMETER</th>\n",
       "      <th>MAJORAXIS</th>\n",
       "      <th>MINORAXIS</th>\n",
       "      <th>ECCENTRICITY</th>\n",
       "      <th>CONVEX_AREA</th>\n",
       "      <th>EXTENT</th>\n",
       "      <th>CLASS</th>\n",
       "    </tr>\n",
       "  </thead>\n",
       "  <tbody>\n",
       "  </tbody>\n",
       "</table>\n",
       "</div>"
      ],
      "text/plain": [
       "Empty DataFrame\n",
       "Columns: [AREA, PERIMETER, MAJORAXIS, MINORAXIS, ECCENTRICITY, CONVEX_AREA, EXTENT, CLASS]\n",
       "Index: []"
      ]
     },
     "execution_count": 19,
     "metadata": {},
     "output_type": "execute_result"
    }
   ],
   "source": [
    "# first will drop the duplicated rows from the dataset \n",
    "dup_rows = data[data.duplicated(subset=None, keep='first')]\n",
    "dup_rows"
   ]
  },
  {
   "cell_type": "code",
   "execution_count": 20,
   "id": "1882b7e0",
   "metadata": {},
   "outputs": [
    {
     "data": {
      "text/plain": [
       "AREA            0\n",
       "PERIMETER       0\n",
       "MAJORAXIS       0\n",
       "MINORAXIS       0\n",
       "ECCENTRICITY    0\n",
       "CONVEX_AREA     0\n",
       "EXTENT          0\n",
       "CLASS           0\n",
       "dtype: int64"
      ]
     },
     "execution_count": 20,
     "metadata": {},
     "output_type": "execute_result"
    }
   ],
   "source": [
    "#Check if the data has missing values\n",
    "data.isnull().sum(0)"
   ]
  },
  {
   "cell_type": "markdown",
   "id": "87ba3039",
   "metadata": {},
   "source": [
    "## Balance the dataset ##\n",
    "#### At first, the dataset in the beginning was not balance because Osmancik was more than Cammeo with 500 row which will effect the results so we applyed resample on the dataset to make it balance. ####"
   ]
  },
  {
   "cell_type": "code",
   "execution_count": 21,
   "id": "3890110b",
   "metadata": {},
   "outputs": [],
   "source": [
    "# oversampling method\n",
    "values=data[\"CLASS\"].value_counts()\n",
    "maxNo=values.iloc[0]\n",
    "rowsofClass=data[data.CLASS==values.index[0]]\n",
    "overSampleAll=rowsofClass\n",
    "for j in range(1,len(values)):\n",
    "    rowsOfOther= data[data.CLASS==values.index[j]]\n",
    "    overS=resample(rowsOfOther, replace=True,n_samples=maxNo,random_state=42)\n",
    "    overSampleAll=pd.concat([overSampleAll,overS])"
   ]
  },
  {
   "cell_type": "code",
   "execution_count": 22,
   "id": "4618638a",
   "metadata": {},
   "outputs": [
    {
     "data": {
      "text/plain": [
       "4360"
      ]
     },
     "execution_count": 22,
     "metadata": {},
     "output_type": "execute_result"
    }
   ],
   "source": [
    "len(overSampleAll)"
   ]
  },
  {
   "cell_type": "code",
   "execution_count": 23,
   "id": "e5dca96e",
   "metadata": {},
   "outputs": [
    {
     "data": {
      "text/plain": [
       "Cammeo      2180\n",
       "Osmancik    2180\n",
       "Name: CLASS, dtype: int64"
      ]
     },
     "execution_count": 23,
     "metadata": {},
     "output_type": "execute_result"
    }
   ],
   "source": [
    "overSampleAll['CLASS'].value_counts()"
   ]
  },
  {
   "cell_type": "code",
   "execution_count": 24,
   "id": "33b062ee",
   "metadata": {},
   "outputs": [
    {
     "data": {
      "text/html": [
       "<div>\n",
       "<style scoped>\n",
       "    .dataframe tbody tr th:only-of-type {\n",
       "        vertical-align: middle;\n",
       "    }\n",
       "\n",
       "    .dataframe tbody tr th {\n",
       "        vertical-align: top;\n",
       "    }\n",
       "\n",
       "    .dataframe thead th {\n",
       "        text-align: right;\n",
       "    }\n",
       "</style>\n",
       "<table border=\"1\" class=\"dataframe\">\n",
       "  <thead>\n",
       "    <tr style=\"text-align: right;\">\n",
       "      <th></th>\n",
       "      <th>AREA</th>\n",
       "      <th>PERIMETER</th>\n",
       "      <th>MAJORAXIS</th>\n",
       "      <th>MINORAXIS</th>\n",
       "      <th>ECCENTRICITY</th>\n",
       "      <th>CONVEX_AREA</th>\n",
       "      <th>EXTENT</th>\n",
       "      <th>CLASS</th>\n",
       "    </tr>\n",
       "  </thead>\n",
       "  <tbody>\n",
       "    <tr>\n",
       "      <th>0</th>\n",
       "      <td>13447</td>\n",
       "      <td>455.648010</td>\n",
       "      <td>183.957581</td>\n",
       "      <td>94.458138</td>\n",
       "      <td>0.858103</td>\n",
       "      <td>13867</td>\n",
       "      <td>0.625908</td>\n",
       "      <td>Osmancik</td>\n",
       "    </tr>\n",
       "    <tr>\n",
       "      <th>1</th>\n",
       "      <td>13233</td>\n",
       "      <td>459.859009</td>\n",
       "      <td>192.590713</td>\n",
       "      <td>88.346718</td>\n",
       "      <td>0.888577</td>\n",
       "      <td>13436</td>\n",
       "      <td>0.588735</td>\n",
       "      <td>Osmancik</td>\n",
       "    </tr>\n",
       "    <tr>\n",
       "      <th>2</th>\n",
       "      <td>12538</td>\n",
       "      <td>452.660004</td>\n",
       "      <td>188.805283</td>\n",
       "      <td>86.109718</td>\n",
       "      <td>0.889940</td>\n",
       "      <td>12846</td>\n",
       "      <td>0.684165</td>\n",
       "      <td>Osmancik</td>\n",
       "    </tr>\n",
       "    <tr>\n",
       "      <th>3</th>\n",
       "      <td>11881</td>\n",
       "      <td>439.184998</td>\n",
       "      <td>183.889526</td>\n",
       "      <td>83.349472</td>\n",
       "      <td>0.891379</td>\n",
       "      <td>12097</td>\n",
       "      <td>0.582830</td>\n",
       "      <td>Osmancik</td>\n",
       "    </tr>\n",
       "    <tr>\n",
       "      <th>4</th>\n",
       "      <td>11750</td>\n",
       "      <td>428.375000</td>\n",
       "      <td>178.553619</td>\n",
       "      <td>84.704185</td>\n",
       "      <td>0.880314</td>\n",
       "      <td>11869</td>\n",
       "      <td>0.608682</td>\n",
       "      <td>Osmancik</td>\n",
       "    </tr>\n",
       "    <tr>\n",
       "      <th>...</th>\n",
       "      <td>...</td>\n",
       "      <td>...</td>\n",
       "      <td>...</td>\n",
       "      <td>...</td>\n",
       "      <td>...</td>\n",
       "      <td>...</td>\n",
       "      <td>...</td>\n",
       "      <td>...</td>\n",
       "    </tr>\n",
       "    <tr>\n",
       "      <th>4355</th>\n",
       "      <td>14369</td>\n",
       "      <td>491.044006</td>\n",
       "      <td>207.947372</td>\n",
       "      <td>89.122147</td>\n",
       "      <td>0.903504</td>\n",
       "      <td>14679</td>\n",
       "      <td>0.603993</td>\n",
       "      <td>Cammeo</td>\n",
       "    </tr>\n",
       "    <tr>\n",
       "      <th>4356</th>\n",
       "      <td>16603</td>\n",
       "      <td>513.523010</td>\n",
       "      <td>213.520264</td>\n",
       "      <td>99.961533</td>\n",
       "      <td>0.883644</td>\n",
       "      <td>16922</td>\n",
       "      <td>0.608905</td>\n",
       "      <td>Cammeo</td>\n",
       "    </tr>\n",
       "    <tr>\n",
       "      <th>4357</th>\n",
       "      <td>13921</td>\n",
       "      <td>481.993012</td>\n",
       "      <td>203.444870</td>\n",
       "      <td>88.125816</td>\n",
       "      <td>0.901313</td>\n",
       "      <td>14210</td>\n",
       "      <td>0.561331</td>\n",
       "      <td>Cammeo</td>\n",
       "    </tr>\n",
       "    <tr>\n",
       "      <th>4358</th>\n",
       "      <td>14969</td>\n",
       "      <td>494.416992</td>\n",
       "      <td>207.209915</td>\n",
       "      <td>92.910515</td>\n",
       "      <td>0.893839</td>\n",
       "      <td>15286</td>\n",
       "      <td>0.639701</td>\n",
       "      <td>Cammeo</td>\n",
       "    </tr>\n",
       "    <tr>\n",
       "      <th>4359</th>\n",
       "      <td>12045</td>\n",
       "      <td>452.308990</td>\n",
       "      <td>193.513519</td>\n",
       "      <td>80.277618</td>\n",
       "      <td>0.909893</td>\n",
       "      <td>12368</td>\n",
       "      <td>0.552422</td>\n",
       "      <td>Cammeo</td>\n",
       "    </tr>\n",
       "  </tbody>\n",
       "</table>\n",
       "<p>4360 rows × 8 columns</p>\n",
       "</div>"
      ],
      "text/plain": [
       "       AREA   PERIMETER   MAJORAXIS  MINORAXIS  ECCENTRICITY  CONVEX_AREA  \\\n",
       "0     13447  455.648010  183.957581  94.458138      0.858103        13867   \n",
       "1     13233  459.859009  192.590713  88.346718      0.888577        13436   \n",
       "2     12538  452.660004  188.805283  86.109718      0.889940        12846   \n",
       "3     11881  439.184998  183.889526  83.349472      0.891379        12097   \n",
       "4     11750  428.375000  178.553619  84.704185      0.880314        11869   \n",
       "...     ...         ...         ...        ...           ...          ...   \n",
       "4355  14369  491.044006  207.947372  89.122147      0.903504        14679   \n",
       "4356  16603  513.523010  213.520264  99.961533      0.883644        16922   \n",
       "4357  13921  481.993012  203.444870  88.125816      0.901313        14210   \n",
       "4358  14969  494.416992  207.209915  92.910515      0.893839        15286   \n",
       "4359  12045  452.308990  193.513519  80.277618      0.909893        12368   \n",
       "\n",
       "        EXTENT     CLASS  \n",
       "0     0.625908  Osmancik  \n",
       "1     0.588735  Osmancik  \n",
       "2     0.684165  Osmancik  \n",
       "3     0.582830  Osmancik  \n",
       "4     0.608682  Osmancik  \n",
       "...        ...       ...  \n",
       "4355  0.603993    Cammeo  \n",
       "4356  0.608905    Cammeo  \n",
       "4357  0.561331    Cammeo  \n",
       "4358  0.639701    Cammeo  \n",
       "4359  0.552422    Cammeo  \n",
       "\n",
       "[4360 rows x 8 columns]"
      ]
     },
     "execution_count": 24,
     "metadata": {},
     "output_type": "execute_result"
    }
   ],
   "source": [
    "overSampleAll.reset_index(drop=True, inplace= True)\n",
    "data=overSampleAll\n",
    "data"
   ]
  },
  {
   "cell_type": "markdown",
   "id": "36f042d9",
   "metadata": {},
   "source": [
    "## Train and split with data processing operations ##"
   ]
  },
  {
   "cell_type": "code",
   "execution_count": 25,
   "id": "42a60b66",
   "metadata": {},
   "outputs": [
    {
     "data": {
      "text/plain": [
       "0       Osmancik\n",
       "1       Osmancik\n",
       "2       Osmancik\n",
       "3       Osmancik\n",
       "4       Osmancik\n",
       "          ...   \n",
       "4355      Cammeo\n",
       "4356      Cammeo\n",
       "4357      Cammeo\n",
       "4358      Cammeo\n",
       "4359      Cammeo\n",
       "Name: CLASS, Length: 4360, dtype: object"
      ]
     },
     "execution_count": 25,
     "metadata": {},
     "output_type": "execute_result"
    }
   ],
   "source": [
    "TargetClass = data[\"CLASS\"]\n",
    "TargetClass"
   ]
  },
  {
   "cell_type": "code",
   "execution_count": 26,
   "id": "b26daa2a",
   "metadata": {},
   "outputs": [
    {
     "data": {
      "text/html": [
       "<div>\n",
       "<style scoped>\n",
       "    .dataframe tbody tr th:only-of-type {\n",
       "        vertical-align: middle;\n",
       "    }\n",
       "\n",
       "    .dataframe tbody tr th {\n",
       "        vertical-align: top;\n",
       "    }\n",
       "\n",
       "    .dataframe thead th {\n",
       "        text-align: right;\n",
       "    }\n",
       "</style>\n",
       "<table border=\"1\" class=\"dataframe\">\n",
       "  <thead>\n",
       "    <tr style=\"text-align: right;\">\n",
       "      <th></th>\n",
       "      <th>AREA</th>\n",
       "      <th>PERIMETER</th>\n",
       "      <th>MAJORAXIS</th>\n",
       "      <th>MINORAXIS</th>\n",
       "      <th>ECCENTRICITY</th>\n",
       "      <th>CONVEX_AREA</th>\n",
       "      <th>EXTENT</th>\n",
       "    </tr>\n",
       "  </thead>\n",
       "  <tbody>\n",
       "    <tr>\n",
       "      <th>0</th>\n",
       "      <td>13447</td>\n",
       "      <td>455.648010</td>\n",
       "      <td>183.957581</td>\n",
       "      <td>94.458138</td>\n",
       "      <td>0.858103</td>\n",
       "      <td>13867</td>\n",
       "      <td>0.625908</td>\n",
       "    </tr>\n",
       "    <tr>\n",
       "      <th>1</th>\n",
       "      <td>13233</td>\n",
       "      <td>459.859009</td>\n",
       "      <td>192.590713</td>\n",
       "      <td>88.346718</td>\n",
       "      <td>0.888577</td>\n",
       "      <td>13436</td>\n",
       "      <td>0.588735</td>\n",
       "    </tr>\n",
       "    <tr>\n",
       "      <th>2</th>\n",
       "      <td>12538</td>\n",
       "      <td>452.660004</td>\n",
       "      <td>188.805283</td>\n",
       "      <td>86.109718</td>\n",
       "      <td>0.889940</td>\n",
       "      <td>12846</td>\n",
       "      <td>0.684165</td>\n",
       "    </tr>\n",
       "    <tr>\n",
       "      <th>3</th>\n",
       "      <td>11881</td>\n",
       "      <td>439.184998</td>\n",
       "      <td>183.889526</td>\n",
       "      <td>83.349472</td>\n",
       "      <td>0.891379</td>\n",
       "      <td>12097</td>\n",
       "      <td>0.582830</td>\n",
       "    </tr>\n",
       "    <tr>\n",
       "      <th>4</th>\n",
       "      <td>11750</td>\n",
       "      <td>428.375000</td>\n",
       "      <td>178.553619</td>\n",
       "      <td>84.704185</td>\n",
       "      <td>0.880314</td>\n",
       "      <td>11869</td>\n",
       "      <td>0.608682</td>\n",
       "    </tr>\n",
       "    <tr>\n",
       "      <th>...</th>\n",
       "      <td>...</td>\n",
       "      <td>...</td>\n",
       "      <td>...</td>\n",
       "      <td>...</td>\n",
       "      <td>...</td>\n",
       "      <td>...</td>\n",
       "      <td>...</td>\n",
       "    </tr>\n",
       "    <tr>\n",
       "      <th>4355</th>\n",
       "      <td>14369</td>\n",
       "      <td>491.044006</td>\n",
       "      <td>207.947372</td>\n",
       "      <td>89.122147</td>\n",
       "      <td>0.903504</td>\n",
       "      <td>14679</td>\n",
       "      <td>0.603993</td>\n",
       "    </tr>\n",
       "    <tr>\n",
       "      <th>4356</th>\n",
       "      <td>16603</td>\n",
       "      <td>513.523010</td>\n",
       "      <td>213.520264</td>\n",
       "      <td>99.961533</td>\n",
       "      <td>0.883644</td>\n",
       "      <td>16922</td>\n",
       "      <td>0.608905</td>\n",
       "    </tr>\n",
       "    <tr>\n",
       "      <th>4357</th>\n",
       "      <td>13921</td>\n",
       "      <td>481.993012</td>\n",
       "      <td>203.444870</td>\n",
       "      <td>88.125816</td>\n",
       "      <td>0.901313</td>\n",
       "      <td>14210</td>\n",
       "      <td>0.561331</td>\n",
       "    </tr>\n",
       "    <tr>\n",
       "      <th>4358</th>\n",
       "      <td>14969</td>\n",
       "      <td>494.416992</td>\n",
       "      <td>207.209915</td>\n",
       "      <td>92.910515</td>\n",
       "      <td>0.893839</td>\n",
       "      <td>15286</td>\n",
       "      <td>0.639701</td>\n",
       "    </tr>\n",
       "    <tr>\n",
       "      <th>4359</th>\n",
       "      <td>12045</td>\n",
       "      <td>452.308990</td>\n",
       "      <td>193.513519</td>\n",
       "      <td>80.277618</td>\n",
       "      <td>0.909893</td>\n",
       "      <td>12368</td>\n",
       "      <td>0.552422</td>\n",
       "    </tr>\n",
       "  </tbody>\n",
       "</table>\n",
       "<p>4360 rows × 7 columns</p>\n",
       "</div>"
      ],
      "text/plain": [
       "       AREA   PERIMETER   MAJORAXIS  MINORAXIS  ECCENTRICITY  CONVEX_AREA  \\\n",
       "0     13447  455.648010  183.957581  94.458138      0.858103        13867   \n",
       "1     13233  459.859009  192.590713  88.346718      0.888577        13436   \n",
       "2     12538  452.660004  188.805283  86.109718      0.889940        12846   \n",
       "3     11881  439.184998  183.889526  83.349472      0.891379        12097   \n",
       "4     11750  428.375000  178.553619  84.704185      0.880314        11869   \n",
       "...     ...         ...         ...        ...           ...          ...   \n",
       "4355  14369  491.044006  207.947372  89.122147      0.903504        14679   \n",
       "4356  16603  513.523010  213.520264  99.961533      0.883644        16922   \n",
       "4357  13921  481.993012  203.444870  88.125816      0.901313        14210   \n",
       "4358  14969  494.416992  207.209915  92.910515      0.893839        15286   \n",
       "4359  12045  452.308990  193.513519  80.277618      0.909893        12368   \n",
       "\n",
       "        EXTENT  \n",
       "0     0.625908  \n",
       "1     0.588735  \n",
       "2     0.684165  \n",
       "3     0.582830  \n",
       "4     0.608682  \n",
       "...        ...  \n",
       "4355  0.603993  \n",
       "4356  0.608905  \n",
       "4357  0.561331  \n",
       "4358  0.639701  \n",
       "4359  0.552422  \n",
       "\n",
       "[4360 rows x 7 columns]"
      ]
     },
     "execution_count": 26,
     "metadata": {},
     "output_type": "execute_result"
    }
   ],
   "source": [
    "classWithoutTarget = data.drop(['CLASS'], axis = 1)\n",
    "classWithoutTarget"
   ]
  },
  {
   "cell_type": "code",
   "execution_count": 27,
   "id": "398bdd0e",
   "metadata": {},
   "outputs": [],
   "source": [
    "classWithoutTarget = overSampleAll.drop(\"CLASS\", axis=1)\n",
    "TargetClass= overSampleAll[\"CLASS\"].copy()"
   ]
  },
  {
   "cell_type": "code",
   "execution_count": 28,
   "id": "fc32384e",
   "metadata": {},
   "outputs": [],
   "source": [
    "train_classWithoutTarget,test_classWithoutTarget,train_TargetClass,test_TargetClass = train_test_split(classWithoutTarget,TargetClass, test_size=0.25, random_state=42)"
   ]
  },
  {
   "cell_type": "code",
   "execution_count": 29,
   "id": "90d01d14",
   "metadata": {},
   "outputs": [
    {
     "data": {
      "text/plain": [
       "(3270, 7)"
      ]
     },
     "execution_count": 29,
     "metadata": {},
     "output_type": "execute_result"
    }
   ],
   "source": [
    "train_classWithoutTarget.shape"
   ]
  },
  {
   "cell_type": "code",
   "execution_count": 30,
   "id": "99b06716",
   "metadata": {},
   "outputs": [
    {
     "data": {
      "text/plain": [
       "(1090, 7)"
      ]
     },
     "execution_count": 30,
     "metadata": {},
     "output_type": "execute_result"
    }
   ],
   "source": [
    "test_classWithoutTarget.shape"
   ]
  },
  {
   "cell_type": "code",
   "execution_count": 31,
   "id": "f6ed0bc3",
   "metadata": {},
   "outputs": [
    {
     "data": {
      "text/plain": [
       "(3270,)"
      ]
     },
     "execution_count": 31,
     "metadata": {},
     "output_type": "execute_result"
    }
   ],
   "source": [
    "train_TargetClass.shape"
   ]
  },
  {
   "cell_type": "code",
   "execution_count": 32,
   "id": "e562b983",
   "metadata": {},
   "outputs": [
    {
     "data": {
      "text/plain": [
       "(1090,)"
      ]
     },
     "execution_count": 32,
     "metadata": {},
     "output_type": "execute_result"
    }
   ],
   "source": [
    "test_TargetClass.shape"
   ]
  },
  {
   "cell_type": "code",
   "execution_count": 33,
   "id": "eb945c41",
   "metadata": {},
   "outputs": [
    {
     "name": "stdout",
     "output_type": "stream",
     "text": [
      "<class 'pandas.core.frame.DataFrame'>\n",
      "Int64Index: 3270 entries, 2545 to 860\n",
      "Data columns (total 7 columns):\n",
      " #   Column        Non-Null Count  Dtype  \n",
      "---  ------        --------------  -----  \n",
      " 0   AREA          3270 non-null   int64  \n",
      " 1   PERIMETER     3270 non-null   float64\n",
      " 2   MAJORAXIS     3270 non-null   float64\n",
      " 3   MINORAXIS     3270 non-null   float64\n",
      " 4   ECCENTRICITY  3270 non-null   float64\n",
      " 5   CONVEX_AREA   3270 non-null   int64  \n",
      " 6   EXTENT        3270 non-null   float64\n",
      "dtypes: float64(5), int64(2)\n",
      "memory usage: 204.4 KB\n"
     ]
    }
   ],
   "source": [
    "train_clean= train_classWithoutTarget\n",
    "train_clean.info()"
   ]
  },
  {
   "cell_type": "markdown",
   "id": "702457b0",
   "metadata": {},
   "source": [
    "## first remove the outliars ##"
   ]
  },
  {
   "cell_type": "code",
   "execution_count": 34,
   "id": "28c4d5e2",
   "metadata": {},
   "outputs": [
    {
     "data": {
      "text/plain": [
       "AREA             True\n",
       "PERIMETER       False\n",
       "MAJORAXIS       False\n",
       "MINORAXIS        True\n",
       "ECCENTRICITY     True\n",
       "CONVEX_AREA      True\n",
       "EXTENT          False\n",
       "dtype: bool"
      ]
     },
     "execution_count": 34,
     "metadata": {},
     "output_type": "execute_result"
    }
   ],
   "source": [
    "Q1 = train_clean.quantile(0.25)\n",
    "Q3 = train_clean.quantile(0.75)\n",
    "IQR = Q3 - Q1\n",
    "outlier = (train_clean.min() < Q1-1.5*IQR) | (train_clean.max() > Q3+1.5*IQR)\n",
    "outlier"
   ]
  },
  {
   "cell_type": "code",
   "execution_count": 35,
   "id": "bd8ec5eb",
   "metadata": {},
   "outputs": [
    {
     "name": "stdout",
     "output_type": "stream",
     "text": [
      "False    3202\n",
      "True       68\n",
      "dtype: int64\n"
     ]
    }
   ],
   "source": [
    "# how many outliers in the dataset?\n",
    "outlier_index = ((train_clean < (Q1 - 1.5 * IQR)) |(train_clean > (Q3 + 1.5 * IQR))).any(axis=1)\n",
    "outlier_index\n",
    "# the true value is the number of outlires in the dataset\n",
    "print(outlier_index.value_counts())\n"
   ]
  },
  {
   "cell_type": "code",
   "execution_count": 36,
   "id": "6abaae6a",
   "metadata": {},
   "outputs": [
    {
     "data": {
      "text/plain": [
       "Int64Index([3349,  658, 1954, 2860, 2369, 1091, 2238, 4074, 1377, 1097, 2804,\n",
       "            2044,  233,  135, 1909,  887,  413,  328, 1514,  844,  553, 1036,\n",
       "            1459, 1442, 1601, 2749,  630,  719, 1408, 1681, 1327, 3607,  986,\n",
       "             575,  861, 1447, 2440,  749,  585, 1418, 1913, 1762, 2866,  951,\n",
       "             341, 1928, 2371, 2136, 1319, 2039, 1755,   27,  739, 2745,  357,\n",
       "            1549, 4003, 2719, 2105, 1140,  872,  895, 3308, 1115, 1060,  253,\n",
       "            2747, 2919],\n",
       "           dtype='int64')"
      ]
     },
     "execution_count": 36,
     "metadata": {},
     "output_type": "execute_result"
    }
   ],
   "source": [
    "# find the indexes\n",
    "index_numbers = train_clean[outlier_index].index\n",
    "index_numbers"
   ]
  },
  {
   "cell_type": "code",
   "execution_count": 37,
   "id": "98a7638d",
   "metadata": {},
   "outputs": [],
   "source": [
    "# remove the outliers by dropping the indexes in the train set\n",
    "train_classWithoutTarget =train_clean.drop(index_numbers)"
   ]
  },
  {
   "cell_type": "code",
   "execution_count": 38,
   "id": "a743d19e",
   "metadata": {},
   "outputs": [],
   "source": [
    "#  remove the outliers by dropping the indexes in the set set\n",
    "train_TargetClass=train_TargetClass.drop(index_numbers)"
   ]
  },
  {
   "cell_type": "code",
   "execution_count": 39,
   "id": "df476637",
   "metadata": {},
   "outputs": [
    {
     "data": {
      "text/plain": [
       "Cammeo      1647\n",
       "Osmancik    1555\n",
       "Name: CLASS, dtype: int64"
      ]
     },
     "execution_count": 39,
     "metadata": {},
     "output_type": "execute_result"
    }
   ],
   "source": [
    "# here will display the number of both classes after dropping the outliers\n",
    "train_TargetClass.value_counts()"
   ]
  },
  {
   "cell_type": "code",
   "execution_count": 40,
   "id": "9b379bd5",
   "metadata": {},
   "outputs": [
    {
     "data": {
      "text/plain": [
       "AREA            0\n",
       "PERIMETER       0\n",
       "MAJORAXIS       0\n",
       "MINORAXIS       0\n",
       "ECCENTRICITY    0\n",
       "CONVEX_AREA     0\n",
       "EXTENT          0\n",
       "dtype: int64"
      ]
     },
     "execution_count": 40,
     "metadata": {},
     "output_type": "execute_result"
    }
   ],
   "source": [
    "# here will see if we have null or missing values\n",
    "train_classWithoutTarget.isnull().sum(axis=0)"
   ]
  },
  {
   "cell_type": "code",
   "execution_count": 41,
   "id": "49e451b5",
   "metadata": {},
   "outputs": [],
   "source": [
    "data= data.drop(index_numbers)"
   ]
  },
  {
   "cell_type": "code",
   "execution_count": 42,
   "id": "73e55eb1",
   "metadata": {},
   "outputs": [
    {
     "data": {
      "text/html": [
       "<div>\n",
       "<style scoped>\n",
       "    .dataframe tbody tr th:only-of-type {\n",
       "        vertical-align: middle;\n",
       "    }\n",
       "\n",
       "    .dataframe tbody tr th {\n",
       "        vertical-align: top;\n",
       "    }\n",
       "\n",
       "    .dataframe thead th {\n",
       "        text-align: right;\n",
       "    }\n",
       "</style>\n",
       "<table border=\"1\" class=\"dataframe\">\n",
       "  <thead>\n",
       "    <tr style=\"text-align: right;\">\n",
       "      <th></th>\n",
       "      <th>AREA</th>\n",
       "      <th>PERIMETER</th>\n",
       "      <th>MAJORAXIS</th>\n",
       "      <th>MINORAXIS</th>\n",
       "      <th>ECCENTRICITY</th>\n",
       "      <th>CONVEX_AREA</th>\n",
       "      <th>EXTENT</th>\n",
       "      <th>CLASS</th>\n",
       "    </tr>\n",
       "  </thead>\n",
       "  <tbody>\n",
       "    <tr>\n",
       "      <th>0</th>\n",
       "      <td>13447</td>\n",
       "      <td>455.648010</td>\n",
       "      <td>183.957581</td>\n",
       "      <td>94.458138</td>\n",
       "      <td>0.858103</td>\n",
       "      <td>13867</td>\n",
       "      <td>0.625908</td>\n",
       "      <td>Osmancik</td>\n",
       "    </tr>\n",
       "    <tr>\n",
       "      <th>1</th>\n",
       "      <td>13233</td>\n",
       "      <td>459.859009</td>\n",
       "      <td>192.590713</td>\n",
       "      <td>88.346718</td>\n",
       "      <td>0.888577</td>\n",
       "      <td>13436</td>\n",
       "      <td>0.588735</td>\n",
       "      <td>Osmancik</td>\n",
       "    </tr>\n",
       "    <tr>\n",
       "      <th>2</th>\n",
       "      <td>12538</td>\n",
       "      <td>452.660004</td>\n",
       "      <td>188.805283</td>\n",
       "      <td>86.109718</td>\n",
       "      <td>0.889940</td>\n",
       "      <td>12846</td>\n",
       "      <td>0.684165</td>\n",
       "      <td>Osmancik</td>\n",
       "    </tr>\n",
       "    <tr>\n",
       "      <th>3</th>\n",
       "      <td>11881</td>\n",
       "      <td>439.184998</td>\n",
       "      <td>183.889526</td>\n",
       "      <td>83.349472</td>\n",
       "      <td>0.891379</td>\n",
       "      <td>12097</td>\n",
       "      <td>0.582830</td>\n",
       "      <td>Osmancik</td>\n",
       "    </tr>\n",
       "    <tr>\n",
       "      <th>4</th>\n",
       "      <td>11750</td>\n",
       "      <td>428.375000</td>\n",
       "      <td>178.553619</td>\n",
       "      <td>84.704185</td>\n",
       "      <td>0.880314</td>\n",
       "      <td>11869</td>\n",
       "      <td>0.608682</td>\n",
       "      <td>Osmancik</td>\n",
       "    </tr>\n",
       "    <tr>\n",
       "      <th>...</th>\n",
       "      <td>...</td>\n",
       "      <td>...</td>\n",
       "      <td>...</td>\n",
       "      <td>...</td>\n",
       "      <td>...</td>\n",
       "      <td>...</td>\n",
       "      <td>...</td>\n",
       "      <td>...</td>\n",
       "    </tr>\n",
       "    <tr>\n",
       "      <th>4355</th>\n",
       "      <td>14369</td>\n",
       "      <td>491.044006</td>\n",
       "      <td>207.947372</td>\n",
       "      <td>89.122147</td>\n",
       "      <td>0.903504</td>\n",
       "      <td>14679</td>\n",
       "      <td>0.603993</td>\n",
       "      <td>Cammeo</td>\n",
       "    </tr>\n",
       "    <tr>\n",
       "      <th>4356</th>\n",
       "      <td>16603</td>\n",
       "      <td>513.523010</td>\n",
       "      <td>213.520264</td>\n",
       "      <td>99.961533</td>\n",
       "      <td>0.883644</td>\n",
       "      <td>16922</td>\n",
       "      <td>0.608905</td>\n",
       "      <td>Cammeo</td>\n",
       "    </tr>\n",
       "    <tr>\n",
       "      <th>4357</th>\n",
       "      <td>13921</td>\n",
       "      <td>481.993012</td>\n",
       "      <td>203.444870</td>\n",
       "      <td>88.125816</td>\n",
       "      <td>0.901313</td>\n",
       "      <td>14210</td>\n",
       "      <td>0.561331</td>\n",
       "      <td>Cammeo</td>\n",
       "    </tr>\n",
       "    <tr>\n",
       "      <th>4358</th>\n",
       "      <td>14969</td>\n",
       "      <td>494.416992</td>\n",
       "      <td>207.209915</td>\n",
       "      <td>92.910515</td>\n",
       "      <td>0.893839</td>\n",
       "      <td>15286</td>\n",
       "      <td>0.639701</td>\n",
       "      <td>Cammeo</td>\n",
       "    </tr>\n",
       "    <tr>\n",
       "      <th>4359</th>\n",
       "      <td>12045</td>\n",
       "      <td>452.308990</td>\n",
       "      <td>193.513519</td>\n",
       "      <td>80.277618</td>\n",
       "      <td>0.909893</td>\n",
       "      <td>12368</td>\n",
       "      <td>0.552422</td>\n",
       "      <td>Cammeo</td>\n",
       "    </tr>\n",
       "  </tbody>\n",
       "</table>\n",
       "<p>4292 rows × 8 columns</p>\n",
       "</div>"
      ],
      "text/plain": [
       "       AREA   PERIMETER   MAJORAXIS  MINORAXIS  ECCENTRICITY  CONVEX_AREA  \\\n",
       "0     13447  455.648010  183.957581  94.458138      0.858103        13867   \n",
       "1     13233  459.859009  192.590713  88.346718      0.888577        13436   \n",
       "2     12538  452.660004  188.805283  86.109718      0.889940        12846   \n",
       "3     11881  439.184998  183.889526  83.349472      0.891379        12097   \n",
       "4     11750  428.375000  178.553619  84.704185      0.880314        11869   \n",
       "...     ...         ...         ...        ...           ...          ...   \n",
       "4355  14369  491.044006  207.947372  89.122147      0.903504        14679   \n",
       "4356  16603  513.523010  213.520264  99.961533      0.883644        16922   \n",
       "4357  13921  481.993012  203.444870  88.125816      0.901313        14210   \n",
       "4358  14969  494.416992  207.209915  92.910515      0.893839        15286   \n",
       "4359  12045  452.308990  193.513519  80.277618      0.909893        12368   \n",
       "\n",
       "        EXTENT     CLASS  \n",
       "0     0.625908  Osmancik  \n",
       "1     0.588735  Osmancik  \n",
       "2     0.684165  Osmancik  \n",
       "3     0.582830  Osmancik  \n",
       "4     0.608682  Osmancik  \n",
       "...        ...       ...  \n",
       "4355  0.603993    Cammeo  \n",
       "4356  0.608905    Cammeo  \n",
       "4357  0.561331    Cammeo  \n",
       "4358  0.639701    Cammeo  \n",
       "4359  0.552422    Cammeo  \n",
       "\n",
       "[4292 rows x 8 columns]"
      ]
     },
     "execution_count": 42,
     "metadata": {},
     "output_type": "execute_result"
    }
   ],
   "source": [
    "data"
   ]
  },
  {
   "cell_type": "markdown",
   "id": "8b35cd9e",
   "metadata": {},
   "source": [
    "## Apply all data processing that happend in the train set into the test set ##"
   ]
  },
  {
   "cell_type": "code",
   "execution_count": 43,
   "id": "74ef3800",
   "metadata": {},
   "outputs": [
    {
     "name": "stdout",
     "output_type": "stream",
     "text": [
      "<class 'pandas.core.frame.DataFrame'>\n",
      "Int64Index: 1090 entries, 179 to 3470\n",
      "Data columns (total 7 columns):\n",
      " #   Column        Non-Null Count  Dtype  \n",
      "---  ------        --------------  -----  \n",
      " 0   AREA          1090 non-null   int64  \n",
      " 1   PERIMETER     1090 non-null   float64\n",
      " 2   MAJORAXIS     1090 non-null   float64\n",
      " 3   MINORAXIS     1090 non-null   float64\n",
      " 4   ECCENTRICITY  1090 non-null   float64\n",
      " 5   CONVEX_AREA   1090 non-null   int64  \n",
      " 6   EXTENT        1090 non-null   float64\n",
      "dtypes: float64(5), int64(2)\n",
      "memory usage: 68.1 KB\n"
     ]
    }
   ],
   "source": [
    "test_clean= test_classWithoutTarget\n",
    "test_clean.info()"
   ]
  },
  {
   "cell_type": "code",
   "execution_count": 44,
   "id": "eb1d8b84",
   "metadata": {},
   "outputs": [
    {
     "data": {
      "text/plain": [
       "AREA             True\n",
       "PERIMETER       False\n",
       "MAJORAXIS       False\n",
       "MINORAXIS        True\n",
       "ECCENTRICITY     True\n",
       "CONVEX_AREA      True\n",
       "EXTENT          False\n",
       "dtype: bool"
      ]
     },
     "execution_count": 44,
     "metadata": {},
     "output_type": "execute_result"
    }
   ],
   "source": [
    "Q1 = test_clean.quantile(0.25)\n",
    "Q3 = test_clean.quantile(0.75)\n",
    "IQR = Q3 - Q1\n",
    "outlier = (test_clean.min() < Q1-1.5*IQR) | (test_clean.max() > Q3+1.5*IQR)\n",
    "outlier"
   ]
  },
  {
   "cell_type": "code",
   "execution_count": 45,
   "id": "21bd208c",
   "metadata": {},
   "outputs": [
    {
     "name": "stdout",
     "output_type": "stream",
     "text": [
      "False    1070\n",
      "True       20\n",
      "dtype: int64\n"
     ]
    }
   ],
   "source": [
    "outlier_index2 = ((test_clean < (Q1 - 1.5 * IQR)) |(test_clean > (Q3 + 1.5 * IQR))).any(axis=1)\n",
    "outlier_index2\n",
    "print(outlier_index2.value_counts())\n"
   ]
  },
  {
   "cell_type": "code",
   "execution_count": 46,
   "id": "5e7e9904",
   "metadata": {},
   "outputs": [
    {
     "data": {
      "text/plain": [
       "Int64Index([1610,   61,   84, 3658,   14, 2974, 1407, 1108, 4119, 2179,  214,\n",
       "            4011, 2268, 1061, 1437, 1395, 3503,  368,  194, 1800],\n",
       "           dtype='int64')"
      ]
     },
     "execution_count": 46,
     "metadata": {},
     "output_type": "execute_result"
    }
   ],
   "source": [
    "index_numbers2 = test_clean[outlier_index2].index\n",
    "index_numbers2"
   ]
  },
  {
   "cell_type": "code",
   "execution_count": 47,
   "id": "ad4ad082",
   "metadata": {},
   "outputs": [],
   "source": [
    "test_classWithoutTarget = test_clean.drop(index_numbers2)\n"
   ]
  },
  {
   "cell_type": "code",
   "execution_count": 48,
   "id": "c1dd8c00",
   "metadata": {},
   "outputs": [],
   "source": [
    "test_TargetClass=test_TargetClass.drop(index_numbers2)"
   ]
  },
  {
   "cell_type": "markdown",
   "id": "6c8f7a0f",
   "metadata": {},
   "source": [
    "## Feature selection ##"
   ]
  },
  {
   "cell_type": "code",
   "execution_count": 49,
   "id": "ead1d622",
   "metadata": {},
   "outputs": [],
   "source": [
    "#first we choose RandomForestClassifier\n",
    "forest_clf = RandomForestClassifier(random_state=42)\n"
   ]
  },
  {
   "cell_type": "code",
   "execution_count": 50,
   "id": "26846179",
   "metadata": {},
   "outputs": [],
   "source": [
    "# the reason why we choose 5 because of the correlational study that we made in the beginning \n",
    "# before choosing 5 we implement the 2 and 3 features the performance was high but the accuracy was not good \n",
    "# we can choose 4 features and its performance and accuracy is the same as 5 but we choose 5 based on the correlational study\n",
    "# we choose two algorithms of the feature selection \n",
    "# first we choose RandomForestClassifier and then SGDClassifier\n",
    "\n",
    "rfe = RFE(estimator=forest_clf, n_features_to_select=5, step=1)\n",
    "rfe.fit(train_classWithoutTarget, train_TargetClass)\n",
    "reduced_train=rfe.transform(train_classWithoutTarget)"
   ]
  },
  {
   "cell_type": "code",
   "execution_count": 51,
   "id": "968ab1b3",
   "metadata": {},
   "outputs": [
    {
     "data": {
      "text/plain": [
       "(3202, 5)"
      ]
     },
     "execution_count": 51,
     "metadata": {},
     "output_type": "execute_result"
    }
   ],
   "source": [
    "reduced_train.shape"
   ]
  },
  {
   "cell_type": "code",
   "execution_count": 52,
   "id": "ae0fe59b",
   "metadata": {},
   "outputs": [
    {
     "data": {
      "text/plain": [
       "RandomForestClassifier(random_state=42)"
      ]
     },
     "execution_count": 52,
     "metadata": {},
     "output_type": "execute_result"
    }
   ],
   "source": [
    "forest_clf.fit(reduced_train, train_TargetClass)"
   ]
  },
  {
   "cell_type": "code",
   "execution_count": 53,
   "id": "8afccb7a",
   "metadata": {},
   "outputs": [
    {
     "data": {
      "text/plain": [
       "array([0.94569288, 0.93908154, 0.93908154])"
      ]
     },
     "execution_count": 53,
     "metadata": {},
     "output_type": "execute_result"
    }
   ],
   "source": [
    "scores = cross_val_score(forest_clf, reduced_train, train_TargetClass, cv=3, scoring=\"accuracy\")\n",
    "scores"
   ]
  },
  {
   "cell_type": "code",
   "execution_count": 54,
   "id": "f93be0ec",
   "metadata": {},
   "outputs": [
    {
     "name": "stdout",
     "output_type": "stream",
     "text": [
      "Ranking of features:\n",
      " [1 1 1 2 1 1 3]\n",
      "Number of selected features: 5\n",
      "selected features [ True  True  True False  True  True False]\n"
     ]
    }
   ],
   "source": [
    "print(\"Ranking of features:\\n\",rfe.ranking_)\n",
    "print(\"Number of selected features:\",rfe.n_features_)\n",
    "print(\"selected features\", rfe.support_)"
   ]
  },
  {
   "cell_type": "code",
   "execution_count": 55,
   "id": "fb17a9f4",
   "metadata": {},
   "outputs": [
    {
     "data": {
      "text/plain": [
       "1.0"
      ]
     },
     "execution_count": 55,
     "metadata": {},
     "output_type": "execute_result"
    }
   ],
   "source": [
    "\n",
    "prediction=rfe.predict(train_classWithoutTarget)\n",
    "Accuracy= accuracy_score(train_TargetClass,prediction)\n",
    "Accuracy"
   ]
  },
  {
   "cell_type": "code",
   "execution_count": 56,
   "id": "1d3ab82b",
   "metadata": {},
   "outputs": [
    {
     "data": {
      "text/plain": [
       "SGDClassifier(random_state=42)"
      ]
     },
     "execution_count": 56,
     "metadata": {},
     "output_type": "execute_result"
    }
   ],
   "source": [
    "#SGDClassifier\n",
    "\n",
    "SG_CL = SGDClassifier(random_state=42)\n",
    "SG_CL.fit(train_classWithoutTarget, train_TargetClass)\n",
    "SG_CL"
   ]
  },
  {
   "cell_type": "code",
   "execution_count": 57,
   "id": "3f801f1a",
   "metadata": {},
   "outputs": [
    {
     "name": "stdout",
     "output_type": "stream",
     "text": [
      "Accuracy of each fold: [0.51404494 0.73477038 0.48547329]\n",
      "Mean of accuracy 0.5780962058907153\n"
     ]
    }
   ],
   "source": [
    "\n",
    "sco = cross_val_score(SG_CL,train_classWithoutTarget,train_TargetClass, cv=3,scoring=\"accuracy\")\n",
    "print(\"Accuracy of each fold:\",sco)\n",
    "print(\"Mean of accuracy\",sco.mean())"
   ]
  },
  {
   "cell_type": "code",
   "execution_count": 58,
   "id": "0643f94e",
   "metadata": {},
   "outputs": [
    {
     "data": {
      "text/plain": [
       "array(['Cammeo', 'Cammeo', 'Cammeo', ..., 'Osmancik', 'Osmancik',\n",
       "       'Osmancik'], dtype='<U8')"
      ]
     },
     "execution_count": 58,
     "metadata": {},
     "output_type": "execute_result"
    }
   ],
   "source": [
    "Y_pred = cross_val_predict(SG_CL,train_classWithoutTarget,train_TargetClass, cv=3)\n",
    "Y_pred"
   ]
  },
  {
   "cell_type": "code",
   "execution_count": 59,
   "id": "eaae869e",
   "metadata": {},
   "outputs": [
    {
     "data": {
      "text/plain": [
       "0.5780762023735165"
      ]
     },
     "execution_count": 59,
     "metadata": {},
     "output_type": "execute_result"
    }
   ],
   "source": [
    "\n",
    "#Accuracy\n",
    "accur = accuracy_score(train_TargetClass,Y_pred)\n",
    "accur"
   ]
  },
  {
   "cell_type": "code",
   "execution_count": 60,
   "id": "7ef2ad3b",
   "metadata": {},
   "outputs": [
    {
     "data": {
      "text/plain": [
       "array([[1057,  590],\n",
       "       [ 761,  794]], dtype=int64)"
      ]
     },
     "execution_count": 60,
     "metadata": {},
     "output_type": "execute_result"
    }
   ],
   "source": [
    "# Confusion matrix\n",
    "\n",
    "conM = confusion_matrix(train_TargetClass,Y_pred)\n",
    "conM"
   ]
  },
  {
   "cell_type": "code",
   "execution_count": 61,
   "id": "510f6a1b",
   "metadata": {},
   "outputs": [
    {
     "name": "stdout",
     "output_type": "stream",
     "text": [
      "Precision: 0.5736994219653179\n"
     ]
    },
    {
     "name": "stderr",
     "output_type": "stream",
     "text": [
      "C:\\Users\\hp\\anaconda3\\lib\\site-packages\\sklearn\\utils\\validation.py:70: FutureWarning: Pass labels=Cammeo, pos_label=Osmancik as keyword args. From version 1.0 (renaming of 0.25) passing these as positional arguments will result in an error\n",
      "  warnings.warn(f\"Pass {args_msg} as keyword args. From version \"\n"
     ]
    }
   ],
   "source": [
    "#from sklearn.metrics import precision_score, recall_score\n",
    "#(3) precision\n",
    "print(\"Precision:\",metrics.precision_score(train_TargetClass, Y_pred,'Cammeo', 'Osmancik'))"
   ]
  },
  {
   "cell_type": "code",
   "execution_count": 62,
   "id": "8ad75d13",
   "metadata": {},
   "outputs": [
    {
     "name": "stdout",
     "output_type": "stream",
     "text": [
      "Recall: 0.5106109324758843\n"
     ]
    },
    {
     "name": "stderr",
     "output_type": "stream",
     "text": [
      "C:\\Users\\hp\\anaconda3\\lib\\site-packages\\sklearn\\utils\\validation.py:70: FutureWarning: Pass labels=Cammeo, pos_label=Osmancik as keyword args. From version 1.0 (renaming of 0.25) passing these as positional arguments will result in an error\n",
      "  warnings.warn(f\"Pass {args_msg} as keyword args. From version \"\n"
     ]
    }
   ],
   "source": [
    "#(4) recall\n",
    "\n",
    "print(\"Recall:\",metrics.recall_score(train_TargetClass, Y_pred,'Cammeo', 'Osmancik'))"
   ]
  },
  {
   "cell_type": "code",
   "execution_count": 63,
   "id": "367a72e7",
   "metadata": {},
   "outputs": [
    {
     "name": "stdout",
     "output_type": "stream",
     "text": [
      "              precision    recall  f1-score   support\n",
      "\n",
      "      Cammeo       0.58      0.64      0.61      1647\n",
      "    Osmancik       0.57      0.51      0.54      1555\n",
      "\n",
      "    accuracy                           0.58      3202\n",
      "   macro avg       0.58      0.58      0.58      3202\n",
      "weighted avg       0.58      0.58      0.58      3202\n",
      "\n"
     ]
    }
   ],
   "source": [
    "\n",
    "print(metrics.classification_report(train_TargetClass, Y_pred))"
   ]
  },
  {
   "cell_type": "markdown",
   "id": "01f2517b",
   "metadata": {},
   "source": [
    "# Modeling #"
   ]
  },
  {
   "cell_type": "markdown",
   "id": "1c6a1c9c",
   "metadata": {},
   "source": [
    "### First we choose the three algorithms : ###\n",
    "#### the LR and CLF and GNB ####\n",
    "#### the accuracy of them were good and high #####"
   ]
  },
  {
   "cell_type": "code",
   "execution_count": 64,
   "id": "42bc25d8",
   "metadata": {},
   "outputs": [
    {
     "name": "stdout",
     "output_type": "stream",
     "text": [
      "Accuracy of each fold: [0.93539326 0.92408622 0.93252109]\n",
      "Mean of accuracy 0.9306668562141747\n",
      "confusion matrix [[1057  590]\n",
      " [ 761  794]]\n",
      "              precision    recall  f1-score   support\n",
      "\n",
      "      Cammeo       0.93      0.93      0.93      1647\n",
      "    Osmancik       0.93      0.93      0.93      1555\n",
      "\n",
      "    accuracy                           0.93      3202\n",
      "   macro avg       0.93      0.93      0.93      3202\n",
      "weighted avg       0.93      0.93      0.93      3202\n",
      "\n"
     ]
    }
   ],
   "source": [
    "# first we choose LR = LogisticRegression like the paper\n",
    "# before the ballance the accuracy was the same \n",
    "model = LogisticRegression(solver='liblinear', random_state=42)\n",
    "\n",
    "model = model.fit(train_classWithoutTarget,train_TargetClass)\n",
    "\n",
    "sco = cross_val_score(model,train_classWithoutTarget,train_TargetClass, cv=3,scoring=\"accuracy\")\n",
    "\n",
    "print(\"Accuracy of each fold:\",sco)\n",
    "\n",
    "print(\"Mean of accuracy\",sco.mean())\n",
    "\n",
    "print(\"confusion matrix\" , confusion_matrix(train_TargetClass,Y_pred))\n",
    "\n",
    "Y_predic = cross_val_predict(model, train_classWithoutTarget, train_TargetClass, cv=3)\n",
    "\n",
    "print(metrics.classification_report(train_TargetClass, Y_predic))"
   ]
  },
  {
   "cell_type": "code",
   "execution_count": 65,
   "id": "e6ab921d",
   "metadata": {},
   "outputs": [
    {
     "name": "stdout",
     "output_type": "stream",
     "text": [
      "Accuracy of each fold: [0.91479401 0.90346767 0.90440487]\n",
      "Mean of accuracy 0.9075555157739797\n",
      "confusion matrix [[1057  590]\n",
      " [ 761  794]]\n",
      "              precision    recall  f1-score   support\n",
      "\n",
      "      Cammeo       0.92      0.89      0.91      1647\n",
      "    Osmancik       0.89      0.92      0.91      1555\n",
      "\n",
      "    accuracy                           0.91      3202\n",
      "   macro avg       0.91      0.91      0.91      3202\n",
      "weighted avg       0.91      0.91      0.91      3202\n",
      "\n"
     ]
    }
   ],
   "source": [
    "# second we choose gaussian-naive-bayes\n",
    "# before the balance the accuracy was lower than after ballancing data: 0.88\n",
    "# but after balancing the data the accuracy was higher than before balancing: 0.91\n",
    "GNB = GaussianNB()\n",
    "GNB.fit(train_classWithoutTarget,train_TargetClass)\n",
    "\n",
    "sco = cross_val_score(GNB,train_classWithoutTarget,train_TargetClass, cv=3,scoring=\"accuracy\")\n",
    "print(\"Accuracy of each fold:\",sco)\n",
    "print(\"Mean of accuracy\",sco.mean())\n",
    "\n",
    "Y_predic = cross_val_predict(GNB, train_classWithoutTarget, train_TargetClass, cv=10)\n",
    "\n",
    "print(\"confusion matrix\" , confusion_matrix(train_TargetClass,Y_pred))\n",
    "\n",
    "print(metrics.classification_report(train_TargetClass, Y_predic))"
   ]
  },
  {
   "cell_type": "code",
   "execution_count": 66,
   "id": "60adc645",
   "metadata": {},
   "outputs": [
    {
     "name": "stdout",
     "output_type": "stream",
     "text": [
      "Accuracy of each fold: [0.92509363 0.91846298 0.91658857]\n",
      "Mean of accuracy 0.9200483931168514\n",
      "confusion matrix [[1544  103]\n",
      " [ 144 1411]]\n",
      "              precision    recall  f1-score   support\n",
      "\n",
      "      Cammeo       0.91      0.94      0.93      1647\n",
      "    Osmancik       0.93      0.91      0.92      1555\n",
      "\n",
      "    accuracy                           0.92      3202\n",
      "   macro avg       0.92      0.92      0.92      3202\n",
      "weighted avg       0.92      0.92      0.92      3202\n",
      "\n"
     ]
    }
   ],
   "source": [
    "# the last one we choose DecisionTreeClassifier\n",
    "# before the balance the accuracy was lower than after balancing data: 0.90\n",
    "# but after balancing the data the accuracy was higher than before balancing 0.92\n",
    "clf = DecisionTreeClassifier()\n",
    "\n",
    "clf = clf.fit(train_classWithoutTarget,train_TargetClass)\n",
    "\n",
    "sco = cross_val_score(clf,train_classWithoutTarget,train_TargetClass, cv=3,scoring=\"accuracy\")\n",
    "\n",
    "print(\"Accuracy of each fold:\",sco)\n",
    "\n",
    "print(\"Mean of accuracy\",sco.mean())\n",
    "\n",
    "Y_predic = cross_val_predict(clf, train_classWithoutTarget, train_TargetClass, cv=3)\n",
    "print(\"confusion matrix\" , confusion_matrix(train_TargetClass,Y_predic))\n",
    "\n",
    "print(metrics.classification_report(train_TargetClass, Y_predic))\n"
   ]
  },
  {
   "cell_type": "code",
   "execution_count": 67,
   "id": "23652a8b",
   "metadata": {},
   "outputs": [
    {
     "data": {
      "image/png": "[encoded data removed]",
      "text/plain": [
       "<Figure size 432x288 with 1 Axes>"
      ]
     },
     "metadata": {
      "needs_background": "light"
     },
     "output_type": "display_data"
    }
   ],
   "source": [
    "# A bar chart shows the diffrence between the three algoritms that used in the dataset\n",
    "# by using the acuurecy \n",
    "classifiers=['GNB FROM ','CLF','LR']\n",
    "Accuracy = [0.91,0.92,0.93]\n",
    "plt.bar(classifiers,Accuracy)\n",
    "plt.show()"
   ]
  },
  {
   "cell_type": "markdown",
   "id": "72d4ff7d",
   "metadata": {},
   "source": [
    "# Evaluation #"
   ]
  },
  {
   "cell_type": "code",
   "execution_count": 68,
   "id": "4c476662",
   "metadata": {},
   "outputs": [],
   "source": [
    "#LR Model\n",
    "# before the balance the accuracy was lower than after balancing data: 0.93\n",
    "# but after balancing the data the accuracy was higher than before balancing 0.92\n",
    "# also it is high accuracy which is still good\n",
    "predTest = model.predict(test_classWithoutTarget)"
   ]
  },
  {
   "cell_type": "code",
   "execution_count": 69,
   "id": "f7dc43a3",
   "metadata": {},
   "outputs": [
    {
     "data": {
      "text/plain": [
       "0.9186915887850468"
      ]
     },
     "execution_count": 69,
     "metadata": {},
     "output_type": "execute_result"
    }
   ],
   "source": [
    "#(1) Accuracy\n",
    "accuracy_score(test_TargetClass, predTest)\n"
   ]
  },
  {
   "cell_type": "code",
   "execution_count": 70,
   "id": "52c908e1",
   "metadata": {},
   "outputs": [
    {
     "name": "stderr",
     "output_type": "stream",
     "text": [
      "C:\\Users\\hp\\anaconda3\\lib\\site-packages\\sklearn\\utils\\validation.py:70: FutureWarning: Pass labels=Cammeo, pos_label=Osmancik as keyword args. From version 1.0 (renaming of 0.25) passing these as positional arguments will result in an error\n",
      "  warnings.warn(f\"Pass {args_msg} as keyword args. From version \"\n"
     ]
    },
    {
     "data": {
      "text/plain": [
       "0.9276672694394213"
      ]
     },
     "execution_count": 70,
     "metadata": {},
     "output_type": "execute_result"
    }
   ],
   "source": [
    "precision_score(test_TargetClass, predTest,'Cammeo', 'Osmancik')"
   ]
  },
  {
   "cell_type": "code",
   "execution_count": 71,
   "id": "72c6c5cd",
   "metadata": {},
   "outputs": [
    {
     "name": "stdout",
     "output_type": "stream",
     "text": [
      "              precision    recall  f1-score   support\n",
      "\n",
      "      Cammeo       0.91      0.92      0.92       510\n",
      "    Osmancik       0.93      0.92      0.92       560\n",
      "\n",
      "    accuracy                           0.92      1070\n",
      "   macro avg       0.92      0.92      0.92      1070\n",
      "weighted avg       0.92      0.92      0.92      1070\n",
      "\n"
     ]
    }
   ],
   "source": [
    "print(metrics.classification_report(test_TargetClass, predTest))"
   ]
  },
  {
   "cell_type": "code",
   "execution_count": 72,
   "id": "cf7b8209",
   "metadata": {},
   "outputs": [],
   "source": [
    "# CLF Model\n",
    "# before the balance the accuracy was lower than after balancing data: 0.92\n",
    "# but after balancing the data the accuracy was higher than before balancing 0.93\n",
    "# the balancing of the data increases the accuracy in the desion tree classification\n",
    "predTest2 = clf.predict(test_classWithoutTarget)"
   ]
  },
  {
   "cell_type": "code",
   "execution_count": 73,
   "id": "01c6bf7d",
   "metadata": {},
   "outputs": [
    {
     "data": {
      "text/plain": [
       "0.9289719626168225"
      ]
     },
     "execution_count": 73,
     "metadata": {},
     "output_type": "execute_result"
    }
   ],
   "source": [
    "accuracy_score(test_TargetClass, predTest2)"
   ]
  },
  {
   "cell_type": "code",
   "execution_count": 74,
   "id": "4d933948",
   "metadata": {},
   "outputs": [
    {
     "name": "stderr",
     "output_type": "stream",
     "text": [
      "C:\\Users\\hp\\anaconda3\\lib\\site-packages\\sklearn\\utils\\validation.py:70: FutureWarning: Pass labels=Cammeo, pos_label=Osmancik as keyword args. From version 1.0 (renaming of 0.25) passing these as positional arguments will result in an error\n",
      "  warnings.warn(f\"Pass {args_msg} as keyword args. From version \"\n"
     ]
    },
    {
     "data": {
      "text/plain": [
       "0.949814126394052"
      ]
     },
     "execution_count": 74,
     "metadata": {},
     "output_type": "execute_result"
    }
   ],
   "source": [
    "precision_score(test_TargetClass, predTest2,'Cammeo', 'Osmancik')"
   ]
  },
  {
   "cell_type": "code",
   "execution_count": 75,
   "id": "682f7178",
   "metadata": {},
   "outputs": [
    {
     "name": "stdout",
     "output_type": "stream",
     "text": [
      "              precision    recall  f1-score   support\n",
      "\n",
      "      Cammeo       0.91      0.95      0.93       510\n",
      "    Osmancik       0.95      0.91      0.93       560\n",
      "\n",
      "    accuracy                           0.93      1070\n",
      "   macro avg       0.93      0.93      0.93      1070\n",
      "weighted avg       0.93      0.93      0.93      1070\n",
      "\n"
     ]
    }
   ],
   "source": [
    "print(metrics.classification_report(test_TargetClass, predTest2))"
   ]
  },
  {
   "cell_type": "code",
   "execution_count": 76,
   "id": "fc34e2a3",
   "metadata": {},
   "outputs": [],
   "source": [
    "# GNB Model\n",
    "# before the balance the accuracy was lower than after balancing data: 0.91\n",
    "# but after balancing the data the accuracy was higher than before balancing 0.92\n",
    "# the balancing of the data increases the accuracy in GNB\n",
    "predTest3 = GNB.predict(test_classWithoutTarget)"
   ]
  },
  {
   "cell_type": "code",
   "execution_count": 77,
   "id": "ecad646a",
   "metadata": {},
   "outputs": [
    {
     "data": {
      "text/plain": [
       "0.9046728971962616"
      ]
     },
     "execution_count": 77,
     "metadata": {},
     "output_type": "execute_result"
    }
   ],
   "source": [
    "accuracy_score(test_TargetClass, predTest3)"
   ]
  },
  {
   "cell_type": "code",
   "execution_count": 78,
   "id": "9938a46d",
   "metadata": {},
   "outputs": [
    {
     "name": "stderr",
     "output_type": "stream",
     "text": [
      "C:\\Users\\hp\\anaconda3\\lib\\site-packages\\sklearn\\utils\\validation.py:70: FutureWarning: Pass labels=Cammeo, pos_label=Osmancik as keyword args. From version 1.0 (renaming of 0.25) passing these as positional arguments will result in an error\n",
      "  warnings.warn(f\"Pass {args_msg} as keyword args. From version \"\n"
     ]
    },
    {
     "data": {
      "text/plain": [
       "0.8975694444444444"
      ]
     },
     "execution_count": 78,
     "metadata": {},
     "output_type": "execute_result"
    }
   ],
   "source": [
    "precision_score(test_TargetClass, predTest3,'Cammeo', 'Osmancik')"
   ]
  },
  {
   "cell_type": "code",
   "execution_count": 79,
   "id": "24c4cd3e",
   "metadata": {},
   "outputs": [
    {
     "name": "stdout",
     "output_type": "stream",
     "text": [
      "              precision    recall  f1-score   support\n",
      "\n",
      "      Cammeo       0.91      0.88      0.90       510\n",
      "    Osmancik       0.90      0.92      0.91       560\n",
      "\n",
      "    accuracy                           0.90      1070\n",
      "   macro avg       0.91      0.90      0.90      1070\n",
      "weighted avg       0.90      0.90      0.90      1070\n",
      "\n"
     ]
    }
   ],
   "source": [
    "print(metrics.classification_report(test_TargetClass, predTest3))"
   ]
  },
  {
   "cell_type": "code",
   "execution_count": 80,
   "id": "617dcd6e",
   "metadata": {},
   "outputs": [
    {
     "data": {
      "image/png": "[encoded data removed]",
      "text/plain": [
       "<Figure size 432x288 with 1 Axes>"
      ]
     },
     "metadata": {
      "needs_background": "light"
     },
     "output_type": "display_data"
    }
   ],
   "source": [
    "# A bar chart shows the diffrence between the three algoritms that used in the dataset\n",
    "# by using the acuurecy \n",
    "classifiers=['GNB FROM ','CLF','LR']\n",
    "Accuracy = [0.90,0.93,0.92]\n",
    "plt.bar(classifiers,Accuracy)\n",
    "plt.show()"
   ]
  },
  {
   "cell_type": "markdown",
   "id": "8fbe35a3",
   "metadata": {},
   "source": [
    "### As we can see that the three algoritm works with high accuracy but we noticed that the LR model in the evaluation has decresed only one point that because of the balancing data above and we actually implemented the three algorithm of above and the accuracy in CLF & GNB are much lower than now with 90% and 88% but the LR is higher with one point and the score of accuracy was 93% which is the same as paper. We can say that The CLF are the best model between the three algorithm because it is the higher accuracy than the other. ###"
   ]
  }
 ],
 "metadata": {
  "celltoolbar": "Raw Cell Format",
  "kernelspec": {
   "display_name": "Python 3",
   "language": "python",
   "name": "python3"
  },
  "language_info": {
   "codemirror_mode": {
    "name": "ipython",
    "version": 3
   },
   "file_extension": ".py",
   "mimetype": "text/x-python",
   "name": "python",
   "nbconvert_exporter": "python",
   "pygments_lexer": "ipython3",
   "version": "3.8.8"
  }
 },
 "nbformat": 4,
 "nbformat_minor": 5
}
